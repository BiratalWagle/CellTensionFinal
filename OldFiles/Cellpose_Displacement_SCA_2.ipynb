{
 "cells": [
  {
   "cell_type": "markdown",
   "metadata": {},
   "source": [
    "# Finding the Displacement\n",
    " \n",
    " This code is used to get the displacment of the vertexes of specific images."
   ]
  },
  {
   "cell_type": "code",
   "execution_count": 2,
   "metadata": {},
   "outputs": [],
   "source": [
    "# Imports\n",
    "\n",
    "import numpy as np\n",
    "import matplotlib.pyplot as plt\n",
    "from cellpose import models, io\n",
    "from cellpose.io import imread\n",
    "from pathlib import Path\n",
    "import os\n",
    "from Modules import specificOutline, getFileDir, getOutlines, smoother, splitImg, plotSide # Custom module for readability\n",
    "import Modules_Displacement # custom module for readability\n",
    "import Modules\n",
    "from PIL import Image"
   ]
  },
  {
   "cell_type": "markdown",
   "metadata": {},
   "source": [
    "Now, we need a list with all the .npy files, that way we can manipulate the outlines as we wish "
   ]
  },
  {
   "cell_type": "code",
   "execution_count": 3,
   "metadata": {},
   "outputs": [],
   "source": [
    "# List of Files\n",
    "# Importing all the files\n",
    "# If the folder containing the .npy and png (or .tif files) are stored \n",
    "npyDir = \"SingleCellAblation\"\n",
    "basedir = os.path.join(Path.cwd(), npyDir)\n",
    "\n",
    "files = io.get_image_files(basedir, \"\")\n",
    "\n",
    "# Makes the directy to point to the seg files\n",
    "dir = []\n",
    "for f in files: \n",
    "    dir.append((os.path.join(basedir, f) + \"_seg.npy\").replace(\".png\", \"\"))\n",
    "dir = dir"
   ]
  },
  {
   "cell_type": "markdown",
   "metadata": {},
   "source": [
    "As the machine learning process will mis-label certain ROIs, we need to find a way to obtain the correct ROI. We can't just say \"pick the 13th ROI for each image\" because the 13th ROI may refer to different cells in each image. In order to fix this, we can approximate the common coordinates of the ROI we want, and store whatever ROI that is in a list named \"roi\\_name\" "
   ]
  },
  {
   "cell_type": "markdown",
   "metadata": {},
   "source": []
  },
  {
   "cell_type": "code",
   "execution_count": 4,
   "metadata": {},
   "outputs": [],
   "source": [
    "\n",
    "roi_name = [] # a list containing the name of the roi we need\n",
    "\n",
    "for i in range(len(dir)):  \n",
    "    dat = np.load(dir[i], allow_pickle=True).item()\n",
    "    masks = dat['masks'] # Using the masks gives us a larger target to select from than outlines\n",
    "    filenam = dat['filename']\n",
    "# box = (25, 40, 125, 120)\n",
    "    width, height = masks.shape\n",
    "    neededROI = masks[width//2][height//2] # the general area of where our ROI will always be\n",
    "\n",
    "    # the below code saves the outline in an image file\n",
    "\n",
    "    if neededROI != 0: \n",
    "        roi_name.append([i, neededROI])\n",
    "        newmas = specificOutline(masks, neededROI)\n",
    "        filedir = (os.path.join(Path.cwd(), \"SCA_images\" ))\n",
    "        nam = str(i) + '.png'\n",
    "        # plt.gca().set_axis_off()\n",
    "        # plt.imsave(os.path.join(filedir, nam), newmas ,cmap = 'gray')\n"
   ]
  },
  {
   "cell_type": "code",
   "execution_count": 5,
   "metadata": {},
   "outputs": [
    {
     "name": "stdout",
     "output_type": "stream",
     "text": [
      "(5, 23, 5, 22)\n"
     ]
    },
    {
     "data": {
      "text/plain": [
       "<matplotlib.image.AxesImage at 0x29a5d71caf0>"
      ]
     },
     "execution_count": 5,
     "metadata": {},
     "output_type": "execute_result"
    },
    {
     "data": {
      "image/png": "[encoded data removed]",
      "text/plain": [
       "<Figure size 432x288 with 1 Axes>"
      ]
     },
     "metadata": {
      "needs_background": "light"
     },
     "output_type": "display_data"
    }
   ],
   "source": [
    "filenum = 4 # The file, or frame of the image you wish to open\n",
    "\n",
    "a, b = roi_name[filenum]\n",
    "datFirst = np.load(dir[a], allow_pickle=True).item()\n",
    "arr = datFirst['outlines']\n",
    "darr = datFirst['masks']\n",
    "r = specificOutline(arr, b) # image of the outline\n",
    "dr = specificOutline(darr, b) # image of the mask\n",
    "\n",
    "plt.imshow(r)\n",
    "q, v, w, j = Modules.GetPositions(r)\n",
    "print(Modules.GetPositions(r))\n",
    "plt.imshow(Modules.Shrink(r, 3, q, v, w, j, manual=True))\n"
   ]
  },
  {
   "cell_type": "code",
   "execution_count": 6,
   "metadata": {},
   "outputs": [],
   "source": [
    "filenum = 4 # The file, or frame of the image you wish to open\n",
    "\n",
    "a, b = roi_name[filenum]\n",
    "datFirst = np.load(dir[a], allow_pickle=True).item()\n",
    "arr = datFirst['outlines']\n",
    "darr = datFirst['masks']\n",
    "r = specificOutline(arr, b) # image of the outline\n",
    "dr = specificOutline(darr, b) # image of the mask\n",
    "q, v, w, j = Modules.GetPositions(r)\n",
    "\n",
    "# The below code will now create a list of the rois\n",
    "\n",
    "outlineList = []\n",
    "maskList = []\n",
    "\n",
    "for i in range(len(roi_name)): \n",
    "    a, b = roi_name[i]\n",
    "    datFirst = np.load(dir[a], allow_pickle=True).item()\n",
    "    arr = datFirst['outlines']\n",
    "    darr = datFirst['masks']\n",
    "    # Modules.Shrink(specificOutline(arr, b), 5, q, v, w, j, manual=True)\n",
    "    # outlineList.append(Modules.Shrink(specificOutline(arr, b), 3, q, v, w, j, manual=True))\n",
    "    # maskList.append(Modules.Shrink(specificOutline(darr, b), 3, q, v, w, j, manual=True))\n",
    "    #Trying without shrinking\n",
    "    outlineList.append(specificOutline(arr, b))\n",
    "    maskList.append(specificOutline(darr, b))"
   ]
  },
  {
   "cell_type": "code",
   "execution_count": 7,
   "metadata": {},
   "outputs": [
    {
     "data": {
      "text/plain": [
       "<matplotlib.image.AxesImage at 0x29a5e0c8850>"
      ]
     },
     "execution_count": 7,
     "metadata": {},
     "output_type": "execute_result"
    },
    {
     "data": {
      "image/png": "[encoded data removed]",
      "text/plain": [
       "<Figure size 432x288 with 1 Axes>"
      ]
     },
     "metadata": {
      "needs_background": "light"
     },
     "output_type": "display_data"
    }
   ],
   "source": [
    "plt.imshow(outlineList[3])"
   ]
  },
  {
   "cell_type": "markdown",
   "metadata": {},
   "source": [
    "\n",
    "# Getting the vertexes | Using pixel manipulation\n",
    "We have several methods of getting the edges. The most basic way is to detect the top, bottom, left and right most pixels in each frame and compare them\n"
   ]
  },
  {
   "cell_type": "code",
   "execution_count": 8,
   "metadata": {},
   "outputs": [
    {
     "data": {
      "text/plain": [
       "<matplotlib.image.AxesImage at 0x29a5e158dc0>"
      ]
     },
     "execution_count": 8,
     "metadata": {},
     "output_type": "execute_result"
    },
    {
     "data": {
      "image/png": "[encoded data removed]",
      "text/plain": [
       "<Figure size 432x288 with 1 Axes>"
      ]
     },
     "metadata": {
      "needs_background": "light"
     },
     "output_type": "display_data"
    }
   ],
   "source": [
    "\n",
    "a = []\n",
    "\n",
    "for i in range(len(outlineList)):\n",
    "    outl = outlineList[i]\n",
    "    a.append(Modules_Displacement.selfGetEdges(outl))\n",
    "\n",
    "# outl = outlineList[26]\n",
    "# a.append(Modules_Displacement.selfGetEdges(outl))\n",
    "\n",
    "a = np.asarray(a)\n",
    "L1 = L2 = R1= R2= T1= T2= B1= B2 = np.zeros(len(a))\n",
    "\n",
    "L1 = a[:, 0]\n",
    "L2 = a[:, 1]\n",
    "R1 = a[:, 2]\n",
    "R2 = a[:, 3]\n",
    "T1 = a[:, 4]\n",
    "T2 = a[:, 5]\n",
    "B1 = a[:, 6]\n",
    "B2 = a[:, 7]\n",
    "\n",
    "plt.scatter(L1, L2)\n",
    "plt.scatter(R1, R2)\n",
    "plt.scatter(T2, T1)\n",
    "plt.scatter(B1, B2)\n",
    "\n",
    "plt.imshow(outl)\n"
   ]
  },
  {
   "cell_type": "code",
   "execution_count": 41,
   "metadata": {},
   "outputs": [
    {
     "name": "stdout",
     "output_type": "stream",
     "text": [
      "[1.0, 2.0, 1.4142135623730951, 2.8284271247461903, 2.8284271247461903, 1.4142135623730951, 1.4142135623730951, 1.0, 1.0, 1.0, 1.0, 1.0, 1.4142135623730951, 1.4142135623730951, 2.23606797749979, 2.23606797749979, 1.4142135623730951, 0.0, 1.4142135623730951, 0.0, 1.4142135623730951, 1.4142135623730951, 1.0, 2.23606797749979, 0.0, 1.0, 1.0, 1.0, 2.23606797749979, 2.23606797749979, 1.0, 0.0, 1.4142135623730951, 1.0, 1.0, 1.0, 1.0, 0.0, 1.0, 0.0, 2.0, 1.0, 1.4142135623730951, 1.0, 1.0, 0.0, 0.0, 2.23606797749979, 0.0, 2.23606797749979, 2.8284271247461903, 2.8284271247461903, 1.4142135623730951, 2.0, 1.4142135623730951, 0.0, 1.0, 1.0, 1.0, 0.0, 1.0, 1.0, 1.0, 0.0, 1.4142135623730951, 1.4142135623730951, 1.4142135623730951, 0.0, 1.0, 1.0, 7.211102550927978, 6.708203932499369, 1.0, 1.0, 0.0, 1.0, 0.0, 0.0, 0.0, 0.0, 0.0, 1.0, 1.4142135623730951, 1.0, 1.4142135623730951, 1.4142135623730951, 1.0, 0.0, 0.0, 1.0, 1.0, 1.4142135623730951, 1.4142135623730951, 1.0, 1.4142135623730951, 1.4142135623730951]\n"
     ]
    },
    {
     "data": {
      "text/plain": [
       "<matplotlib.collections.PathCollection at 0x29a61552d00>"
      ]
     },
     "execution_count": 41,
     "metadata": {},
     "output_type": "execute_result"
    },
    {
     "data": {
      "image/png": "[encoded data removed]",
      "text/plain": [
       "<Figure size 432x288 with 1 Axes>"
      ]
     },
     "metadata": {
      "needs_background": "light"
     },
     "output_type": "display_data"
    }
   ],
   "source": [
    "dis = Modules_Displacement.GetDisplacement(L1, L2)\n",
    "x = np.linspace(0, len(dis), len(dis))\n",
    "\n",
    "plt.plot(x, dis)\n",
    "plt.scatter(x, dis)\n",
    "\n",
    "Y = dis\n",
    "\n",
    "\n",
    "print(Y)\n",
    "cummulation =  [Y[0]]\n",
    "for i in range(1,len(Y)): \n",
    "    cummulation.append(Y[i] + cummulation[i - 1]) \n",
    "\n",
    "\n",
    "plt.scatter(cummulation, np.arange(0, len(cummulation), 1))\n",
    "#print(cummulation)\n",
    "# The Results aren't what we expect, however, whether this is because of the cell segmentation or because of the \n",
    "# Vertex Detection remains to be seen "
   ]
  },
  {
   "cell_type": "code",
   "execution_count": 16,
   "metadata": {},
   "outputs": [
    {
     "data": {
      "text/plain": [
       "1.0"
      ]
     },
     "execution_count": 16,
     "metadata": {},
     "output_type": "execute_result"
    }
   ],
   "source": [
    "w"
   ]
  },
  {
   "cell_type": "code",
   "execution_count": 10,
   "metadata": {},
   "outputs": [
    {
     "data": {
      "text/plain": [
       "[<matplotlib.lines.Line2D at 0x1e88f82fc40>]"
      ]
     },
     "execution_count": 10,
     "metadata": {},
     "output_type": "execute_result"
    },
    {
     "data": {
      "image/png": "[encoded data removed]",
      "text/plain": [
       "<Figure size 432x288 with 1 Axes>"
      ]
     },
     "metadata": {
      "needs_background": "light"
     },
     "output_type": "display_data"
    }
   ],
   "source": [
    "dis2 = Modules_Displacement.GetMSE(maskList)\n",
    "plt.plot(x, dis2)\n",
    "\n",
    "# By using the MSE on the images we have obtained, we can see that there are peaks where we expect them to be, \n",
    "# but also alot of noise that we do not want. This means maybe a higher resolution image, with better cell \n",
    "# segmentation can be useful"
   ]
  },
  {
   "cell_type": "markdown",
   "metadata": {},
   "source": [
    "However, we Can try other methods as well. Such as Contour detection\n",
    "\n",
    "# Contour Detection\n",
    "this by far seems to be the most promising method of detetecting the cell edges"
   ]
  },
  {
   "cell_type": "code",
   "execution_count": 11,
   "metadata": {},
   "outputs": [
    {
     "data": {
      "text/plain": [
       "<matplotlib.collections.PathCollection at 0x1e88f9c82b0>"
      ]
     },
     "execution_count": 11,
     "metadata": {},
     "output_type": "execute_result"
    },
    {
     "data": {
      "image/png": "[encoded data removed]",
      "text/plain": [
       "<Figure size 432x288 with 1 Axes>"
      ]
     },
     "metadata": {
      "needs_background": "light"
     },
     "output_type": "display_data"
    }
   ],
   "source": [
    "v = 45\n",
    "a = []\n",
    "for i in range(len(maskList)): \n",
    "    r = maskList[i]\n",
    "    plt.imshow(r)\n",
    "    a.append(Modules_Displacement.getEdges(r))\n",
    "\n",
    "a = np.asarray(a)\n",
    "# The following lists will have the coordinates for the left, right, top and bottom coordinates of the specified cell \n",
    "\n",
    "L1 = a[:, 0]\n",
    "L2 = a[:, 1]\n",
    "R1 = a[:, 2]\n",
    "R2 = a[:, 3]\n",
    "T1 = a[:, 4]\n",
    "T2 = a[:, 5]\n",
    "B1 = a[:, 6]\n",
    "B2 = a[:, 7]\n",
    "\n",
    "\n",
    "plt.imshow(outlineList[v])\n",
    "plt.scatter(L1[v], L2[v])\n",
    "plt.scatter(R1[v], R2[v])\n",
    "# plt.scatter(T2[v], T1[v])\n",
    "plt.scatter(B1[v], B2[v])\n",
    "\n",
    "plt.scatter(L1, L2)\n",
    "plt.scatter(R1, R2)\n",
    "plt.scatter(T1, T2)\n",
    "plt.scatter(B1, B2)"
   ]
  },
  {
   "cell_type": "code",
   "execution_count": 1,
   "metadata": {},
   "outputs": [
    {
     "ename": "NameError",
     "evalue": "name 'Modules_Displacement' is not defined",
     "output_type": "error",
     "traceback": [
      "\u001b[1;31m---------------------------------------------------------------------------\u001b[0m",
      "\u001b[1;31mNameError\u001b[0m                                 Traceback (most recent call last)",
      "\u001b[1;32mc:\\Users\\birat\\OneDrive\\Desktop\\backe\\CellTension\\Cellpose_Displacement_SCA_2.ipynb Cell 17\u001b[0m in \u001b[0;36m<cell line: 1>\u001b[1;34m()\u001b[0m\n\u001b[1;32m----> <a href='vscode-notebook-cell:/c%3A/Users/birat/OneDrive/Desktop/backe/CellTension/Cellpose_Displacement_SCA_2.ipynb#X22sZmlsZQ%3D%3D?line=0'>1</a>\u001b[0m dis \u001b[39m=\u001b[39m Modules_Displacement\u001b[39m.\u001b[39mGetDisplacement(L1, L2)\n\u001b[0;32m      <a href='vscode-notebook-cell:/c%3A/Users/birat/OneDrive/Desktop/backe/CellTension/Cellpose_Displacement_SCA_2.ipynb#X22sZmlsZQ%3D%3D?line=1'>2</a>\u001b[0m x \u001b[39m=\u001b[39m np\u001b[39m.\u001b[39mlinspace(\u001b[39m0\u001b[39m, \u001b[39mlen\u001b[39m(dis), \u001b[39mlen\u001b[39m(dis))\n\u001b[0;32m      <a href='vscode-notebook-cell:/c%3A/Users/birat/OneDrive/Desktop/backe/CellTension/Cellpose_Displacement_SCA_2.ipynb#X22sZmlsZQ%3D%3D?line=2'>3</a>\u001b[0m plt\u001b[39m.\u001b[39mplot(x, dis)\n",
      "\u001b[1;31mNameError\u001b[0m: name 'Modules_Displacement' is not defined"
     ]
    }
   ],
   "source": [
    "dis = Modules_Displacement.GetDisplacement(L1, L2)\n",
    "x = np.linspace(0, len(dis), len(dis))\n",
    "plt.plot(x, dis)\n",
    "plt.scatter(x, dis)\n",
    "\n",
    "# The results are very similar to what we got before. "
   ]
  },
  {
   "cell_type": "code",
   "execution_count": 1,
   "metadata": {},
   "outputs": [
    {
     "ename": "NameError",
     "evalue": "name 'dis' is not defined",
     "output_type": "error",
     "traceback": [
      "\u001b[1;31m---------------------------------------------------------------------------\u001b[0m",
      "\u001b[1;31mNameError\u001b[0m                                 Traceback (most recent call last)",
      "\u001b[1;32mc:\\Users\\birat\\OneDrive\\Desktop\\backe\\CellTension\\Cellpose_Displacement_SCA_2.ipynb Cell 18\u001b[0m in \u001b[0;36m<cell line: 2>\u001b[1;34m()\u001b[0m\n\u001b[0;32m      <a href='vscode-notebook-cell:/c%3A/Users/birat/OneDrive/Desktop/backe/CellTension/Cellpose_Displacement_SCA_2.ipynb#Y101sZmlsZQ%3D%3D?line=0'>1</a>\u001b[0m ndis \u001b[39m=\u001b[39m []\n\u001b[1;32m----> <a href='vscode-notebook-cell:/c%3A/Users/birat/OneDrive/Desktop/backe/CellTension/Cellpose_Displacement_SCA_2.ipynb#Y101sZmlsZQ%3D%3D?line=1'>2</a>\u001b[0m \u001b[39mfor\u001b[39;00m i \u001b[39min\u001b[39;00m \u001b[39mrange\u001b[39m(dis): \n\u001b[0;32m      <a href='vscode-notebook-cell:/c%3A/Users/birat/OneDrive/Desktop/backe/CellTension/Cellpose_Displacement_SCA_2.ipynb#Y101sZmlsZQ%3D%3D?line=2'>3</a>\u001b[0m     ndis[i \u001b[39m+\u001b[39m \u001b[39m1\u001b[39m] \u001b[39m=\u001b[39m ndis[i] \u001b[39m+\u001b[39m dis[i]\n\u001b[0;32m      <a href='vscode-notebook-cell:/c%3A/Users/birat/OneDrive/Desktop/backe/CellTension/Cellpose_Displacement_SCA_2.ipynb#Y101sZmlsZQ%3D%3D?line=4'>5</a>\u001b[0m ndis\n",
      "\u001b[1;31mNameError\u001b[0m: name 'dis' is not defined"
     ]
    }
   ],
   "source": [
    "ndis = []\n",
    "for i in range(dis): \n",
    "    ndis[i + 1] = ndis[i] + dis[i]\n",
    "\n"
   ]
  },
  {
   "cell_type": "code",
   "execution_count": 13,
   "metadata": {},
   "outputs": [
    {
     "data": {
      "text/plain": [
       "<matplotlib.collections.PathCollection at 0x1e88fa91e80>"
      ]
     },
     "execution_count": 13,
     "metadata": {},
     "output_type": "execute_result"
    },
    {
     "data": {
      "image/png": "[encoded data removed]",
      "text/plain": [
       "<Figure size 432x288 with 1 Axes>"
      ]
     },
     "metadata": {
      "needs_background": "light"
     },
     "output_type": "display_data"
    }
   ],
   "source": [
    "dis = Modules_Displacement.GetMSE(maskList)\n",
    "x = np.linspace(1, len(dis), len(dis))\n",
    "plt.scatter(x, dis)"
   ]
  },
  {
   "cell_type": "markdown",
   "metadata": {},
   "source": [
    "This is better, however, it would be preferable if we could detect MORE vertex points, such as the ones at the bottom and the sides. However, this method has produced the most consistent results so far. However, whether it can rival someone doing in manually through imageJ remains to be seen. These images can be put into image J which will make the correcting process significanly easier though. "
   ]
  },
  {
   "cell_type": "markdown",
   "metadata": {},
   "source": [
    "One way to go about this is to try and half the image so that it turns into two curves which are not enclosed. Now, we can find the peaks and troughs of these values based on the slope of a specific part "
   ]
  },
  {
   "cell_type": "markdown",
   "metadata": {},
   "source": [
    "# Splitting and using algorithms"
   ]
  },
  {
   "cell_type": "code",
   "execution_count": 14,
   "metadata": {},
   "outputs": [
    {
     "data": {
      "image/png": "[encoded data removed]",
      "text/plain": [
       "<Figure size 432x288 with 1 Axes>"
      ]
     },
     "metadata": {
      "needs_background": "light"
     },
     "output_type": "display_data"
    },
    {
     "name": "stdout",
     "output_type": "stream",
     "text": [
      "[[ 4 14 22  6 17  4  4 14]\n",
      " [ 4 13 23  5 15  4  4 14]\n",
      " [ 4 14 23  6 19  3  4 14]\n",
      " [ 3 14 22  6 17  4  3 14]\n",
      " [ 5 13 22  7 16  5  5 14]\n",
      " [ 4 14 22  7 17  5  4 14]\n",
      " [ 5 13 21  6 17  5  5 14]\n",
      " [ 4 14 22  6 17  5  4 14]\n",
      " [ 4 13 22  7 17  5  4 14]\n",
      " [ 4 14 22  7 17  5  4 14]\n",
      " [ 4 14 22  7 17  5  4 14]\n",
      " [ 4 14 22  7 16  5  4 14]\n",
      " [ 4 14 22  6 16  5  4 14]\n",
      " [ 4 14 22  7 17  5  4 14]\n",
      " [ 4 14 22  6 16  5  4 14]\n",
      " [ 4 14 22  6 16  5  4 14]\n",
      " [ 4 14 22  6 17  5  4 14]\n",
      " [ 4 14 22  6 16  5  4 14]\n",
      " [ 4 14 22  6 16  5  4 14]\n",
      " [ 4 14 22  6 16  5  4 14]\n",
      " [ 4 13 22  6 16  5  4 14]\n",
      " [ 4 14 22  6 16  5  4 14]\n",
      " [ 4 14 22  6 16  5  4 14]\n",
      " [ 4 14 23  6 16  5  4 14]\n",
      " [ 4 14 22  6 16  5  4 14]\n",
      " [ 4 14 22  6 16  5  4 14]\n",
      " [ 4 14 22  6 19  4  4 14]\n",
      " [ 4 14 22  6 19  4  4 14]\n",
      " [ 4 14 22  7 16  5  4 14]\n",
      " [ 4 13 23  6 20  4  4 14]\n",
      " [ 4 14 22  6 16  5  4 14]\n",
      " [ 4 13 22  6 19  4  4 14]\n",
      " [ 4 13 22  6 18  4  4 14]\n",
      " [ 4 14 22  6 19  4  4 14]\n",
      " [ 4 14 22  6 19  4  4 14]\n",
      " [ 4 14 22  6 19  4  4 14]\n",
      " [ 4 14 22  6 18  4  4 14]\n",
      " [ 4 14 22  6 16  5  4 14]\n",
      " [ 4 14 22  6 18  4  4 14]\n",
      " [ 5 12 22  6 18  4  5 14]\n",
      " [ 5 13 22  6 19  4  5 14]\n",
      " [ 4 14 22  5 18  4  4 14]\n",
      " [ 4 14 23  6 19  4  4 14]\n",
      " [ 4 13 22  6 16  5  4 14]\n",
      " [ 5 12 23  6 18  4  5 14]\n",
      " [ 4 14 22  6 19  4  4 14]\n",
      " [ 4 14 22  6 16  5  4 14]\n",
      " [ 5 13 22  5 18  4  5 14]\n",
      " [ 4 14 22  5 18  4  4 14]\n",
      " [ 4 14 22  6 19  4  4 14]\n",
      " [ 5 13 23  6 18  4  5 14]\n",
      " [ 7 11 23  6 18  4  7 14]\n",
      " [ 4 14 23  6 18  4  4 14]\n",
      " [ 4 13 23  7 18  4  4 14]\n",
      " [ 5 14 22  6 18  4  5 14]\n",
      " [ 4 13 23  6 18  4  4 14]\n",
      " [ 4 14 22  5 18  4  4 14]\n",
      " [ 4 14 22  5 19  4  4 14]\n",
      " [ 4 14 23  5 18  4  4 14]\n",
      " [ 5 12 23  6 17  4  5 14]\n",
      " [ 4 14 22  5 18  4  4 14]\n",
      " [ 5 13 23  6 17  4  5 14]\n",
      " [ 5 12 22  5 18  4  5 14]\n",
      " [ 4 14 23  6 17  4  4 14]\n",
      " [ 4 14 23  6 18  4  4 14]\n",
      " [ 4 14 23  5 17  4  4 14]\n",
      " [ 4 14 23  6 17  4  4 14]\n",
      " [ 4 14 22  5 18  4  4 14]\n",
      " [ 4 13 23  6 17  4  4 14]\n",
      " [ 5 13 23  6 17  4  5 14]\n",
      " [ 4 14 22  5 17  4  4 14]\n",
      " [ 7 11 22  5 19  4 12 14]\n",
      " [ 4 14 23  6 17  4  4 14]\n",
      " [ 4 14 23  5 17  4  4 14]\n",
      " [ 4 13 23  6 17  4  4 14]\n",
      " [ 3 14 23  5 17  4  3 14]\n",
      " [ 5 12 23  5 17  4  5 14]\n",
      " [ 4 14 23  6 17  4  4 14]\n",
      " [ 5 12 23  5 16  4  5 14]\n",
      " [ 4 14 22  5 17  4  4 14]\n",
      " [ 4 14 23  5 17  4  4 14]\n",
      " [ 5 13 23  5 17  4  5 14]\n",
      " [ 4 14 23  5 17  4  4 14]\n",
      " [ 4 14 23  5 17  4  4 14]\n",
      " [ 5 12 23  5 17  4  5 14]\n",
      " [ 4 13 23  5 16  4  4 14]\n",
      " [ 5 12 23  5 16  4  5 14]\n",
      " [ 4 14 23  5 17  4  4 14]\n",
      " [ 4 14 23  5 18  4  4 14]\n",
      " [ 4 14 23  5 17  4  4 14]\n",
      " [ 5 12 23  5 17  4  5 14]\n",
      " [ 4 14 23  5 17  4  4 14]\n",
      " [ 5 13 23  5 17  4  5 14]\n",
      " [ 4 14 23  5 17  4  4 14]\n",
      " [ 5 13 23  5 17  4  5 14]\n",
      " [ 5 13 23  7 19  3  5 14]\n",
      " [ 4 14 23  5 20  3  4 14]]\n"
     ]
    },
    {
     "data": {
      "image/png": "[encoded data removed]",
      "text/plain": [
       "<Figure size 432x288 with 1 Axes>"
      ]
     },
     "metadata": {
      "needs_background": "light"
     },
     "output_type": "display_data"
    }
   ],
   "source": [
    "# This code will get me the rows I need\n",
    "# This part of the code will get me the top, the mid, the right and the bottom parts of the figure. \n",
    "# With this we can crop the matrix for only the useful data\n",
    "points = []\n",
    "a1 = []\n",
    "a2 = []\n",
    "for i in range(len(maskList)): \n",
    "    r = outlineList[i]\n",
    "    m1, m2 = Modules.splitImg(r) # this split's the ith image\n",
    "\n",
    "    a1.append(Modules_Displacement.getEdges(m1)) # This module uses the contours\n",
    "    a2.append(Modules_Displacement.getEdges(m2)) # This module uses the contours\n",
    "   \n",
    "\n",
    "a1 = np.asarray(a1)\n",
    "a2 = np.asarray(a2)\n",
    "\n",
    "\n",
    "fL1 = a1[:, 0]\n",
    "fL2 = a1[:, 1]\n",
    "fR1 = a1[:, 2]\n",
    "fR2 = a1[:, 3]\n",
    "fT1 = a1[:, 4]\n",
    "fT2 = a1[:, 5]\n",
    "# fB1 = a1[:, 6]\n",
    "# fB2 = a1[:, 7]\n",
    "\n",
    "plt.scatter(fL1, fL2)\n",
    "plt.scatter(fR1, fR2)\n",
    "plt.scatter(fT1, fT2)\n",
    "# plt.scatter(fB1, fB2)\n",
    "plt.imshow(m1)\n",
    "plt.show()\n",
    "\n",
    "sL1 = a2[:, 0]\n",
    "sL2 = a2[:, 1]\n",
    "sR1 = a2[:, 2]\n",
    "sR2 = a2[:, 3]\n",
    "sT1 = a2[:, 4]\n",
    "sT2 = a2[:, 5]\n",
    "sB1 = a2[:, 6]\n",
    "sB2 = a2[:, 7]\n",
    "\n",
    "plt.scatter(sL1, sL2)\n",
    "plt.scatter(sR1, sR2)\n",
    "# plt.scatter(sT1, sT2)\n",
    "plt.scatter(sB1, sB2)\n",
    "plt.imshow(m2)\n",
    "\n",
    "print(a1)"
   ]
  },
  {
   "cell_type": "markdown",
   "metadata": {},
   "source": [
    "From this, we can see we have now gotten 6 vertex points. "
   ]
  },
  {
   "cell_type": "markdown",
   "metadata": {},
   "source": [
    "# Turning to equations\n",
    "### Everything below this point is extremely experimental and may be ignored \n",
    "These look like graphs. Perhaps we could consider these to be individal points and use interpolation to create a curve"
   ]
  },
  {
   "cell_type": "code",
   "execution_count": 15,
   "metadata": {},
   "outputs": [
    {
     "data": {
      "text/plain": [
       "<matplotlib.collections.PathCollection at 0x1e88bb4b6d0>"
      ]
     },
     "execution_count": 15,
     "metadata": {},
     "output_type": "execute_result"
    },
    {
     "data": {
      "image/png": "[encoded data removed]",
      "text/plain": [
       "<Figure size 432x288 with 1 Axes>"
      ]
     },
     "metadata": {
      "needs_background": "light"
     },
     "output_type": "display_data"
    }
   ],
   "source": [
    "\n",
    "X2 = []\n",
    "Y2 = []\n",
    "\n",
    "a, b = m2.shape\n",
    "\n",
    "for p in range(b): \n",
    "    for q in range(a): \n",
    "        if m2[q][p] != 0: \n",
    "           X2.append(p)\n",
    "           Y2.append(q)\n",
    "                \n",
    "\n",
    "X2 = np.asarray(X2)\n",
    "Y2 = np.asarray(Y2)\n",
    "plt.scatter(X2, Y2)\n"
   ]
  },
  {
   "cell_type": "code",
   "execution_count": 16,
   "metadata": {},
   "outputs": [
    {
     "data": {
      "text/plain": [
       "<matplotlib.collections.PathCollection at 0x1e88fa5dac0>"
      ]
     },
     "execution_count": 16,
     "metadata": {},
     "output_type": "execute_result"
    },
    {
     "data": {
      "image/png": "[encoded data removed]",
      "text/plain": [
       "<Figure size 432x288 with 1 Axes>"
      ]
     },
     "metadata": {
      "needs_background": "light"
     },
     "output_type": "display_data"
    }
   ],
   "source": [
    "X1 = []\n",
    "Y1 = []\n",
    "\n",
    "c, d = m1.shape\n",
    "for y in range(c): \n",
    "    for x in range(d):\n",
    "        if m1[y][x] != 0: \n",
    "            X1.append(x)\n",
    "            Y1.append(y)\n",
    "                \n",
    "\n",
    "X1 = np.asarray(X1)\n",
    "Y1 = np.asarray(Y1)\n",
    "\n",
    "plt.scatter(X1, Y1)"
   ]
  },
  {
   "cell_type": "code",
   "execution_count": 17,
   "metadata": {},
   "outputs": [],
   "source": [
    "\n",
    "# # small = 0\n",
    "# # big = 0 \n",
    "# # i = 0\n",
    "# # def looper(X2, Y2): \n",
    "# #     b = 0 \n",
    "# #     s = 0\n",
    "# #     ns = 0 \n",
    "# #     i = 0\n",
    "\n",
    "# #     while Y2[i] <= Y2[i + 1] : \n",
    "# #         if Y2[i] < Y2[s]: \n",
    "# #             s = i\n",
    "# #             i +=1 \n",
    "# #     b = i \n",
    "# #     # big.append(b)\n",
    "# #     # small.append(s)\n",
    "  \n",
    "# #     while Y2[i] >= Y2[i + 1] and i != len(Y2) - 2: \n",
    "# #         i += 1\n",
    "# #     ns = i\n",
    "\n",
    "# #     if Y2[-1] == Y2[ns]: \n",
    "# #         X2 = []\n",
    "# #         Y2 = []\n",
    "# #     else: \n",
    "# #         print(ns)\n",
    "# #         nX2 = X2[ns::]\n",
    "# #         nY2 = Y2[ns::]\n",
    "#     # nextsmal.append(ns)\n",
    "#     # plt.scatter(X2, Y2)\n",
    "#     # plt.scatter(X2[small], Y2[small])\n",
    "#     # plt.scatter(X2[big], Y2[big])\n",
    "#     # plt.scatter(X2[nextsmal], Y2[nextsmal])\n",
    " \n",
    "#     # if len(nX2 > 5): \n",
    "#     #     print(\"one\")\n",
    "#     #     # looper(nY2, nX2, small, big, nextsmal)\n",
    "#     # else: \n",
    "#     # return small, big, nextsmal\n",
    "#     return s, b, ns, nX2, nY2\n",
    "\n",
    "# nX2 = X2\n",
    "# nY2 = Y2 \n",
    "# count = 0 \n",
    "# # while len(nY2) > 3 and count < 10: \n",
    "# a, b, c, nX2, nY2 =looper(nX2, nY2)\n",
    "# plt.scatter(nX2, nY2)\n",
    "# plt.scatter(nX2[a], nY2[a])\n",
    "# plt.scatter(nX2[b], nY2[b])\n",
    "# plt.scatter(nX2[c], nY2[c])\n",
    "# count += 1 \n",
    "# print(c)"
   ]
  },
  {
   "cell_type": "code",
   "execution_count": 18,
   "metadata": {},
   "outputs": [],
   "source": [
    "# ns = 27\n",
    "\n",
    "# nX2 = X2[ns::]\n",
    "# nY2 = Y2[ns::]\n",
    "\n",
    "# plt.scatter(nX2, nY2)\n",
    "\n",
    "# a, b, c = looper(nX2, nY2)\n",
    "# print(b)\n",
    "# plt.scatter(nX2[a], nY2[a])\n",
    "# plt.scatter(nX2[b[1]], nY2[b[1]])"
   ]
  },
  {
   "cell_type": "code",
   "execution_count": 19,
   "metadata": {},
   "outputs": [
    {
     "name": "stdout",
     "output_type": "stream",
     "text": [
      "(array([], dtype=int64),)\n"
     ]
    }
   ],
   "source": [
    "from operator import invert\n",
    "from scipy.signal import argrelmax, argrelextrema\n",
    "# smoothy = smoother(np.asarray(Y), 51)\n",
    "# smoothx = smoother(np.asarray(X), 21)\n",
    "\n",
    "# dy = smoother(Y1)\n",
    "\n",
    "# plt.scatter(X1, dy )\n",
    "\n",
    "maxs = argrelextrema(Y1, np.greater)\n",
    "mins = argrelextrema(Y1, np.less)\n",
    "\n",
    "print(maxs)\n",
    "# # plt.scatter(smoothx, smoothy)\n",
    "# plt.scatter(X1, Y1)\n",
    "# plt.ylim(max(Y1), min(Y1))\n",
    "# a = maxs[0]\n",
    "# Xn = []\n",
    "# Yn = []\n",
    "# print(a)\n",
    "# for g in a:\n",
    "#     if g < len(X1):  \n",
    "#         Xn.append(X1[g]) \n",
    "#         Yn.append(Y1[g])\n",
    "# plt.scatter(Xn, Yn, color = \"red\")\n",
    "\n",
    "# # plt.scatter(Xn, Yn, color = \"red\")\n",
    "\n",
    "# # plt.scatter(X[a[1]], Y[a[1]], color = \"red\")\n",
    "# # plt.scatter(X[a[2]], Y[a[2]], color = \"red\")\n",
    "# # res1 = np.where(dy == max(dy))[0][0]\n",
    "# # res2 = np.where(dy == min(dy))[0][0]"
   ]
  },
  {
   "cell_type": "code",
   "execution_count": 20,
   "metadata": {},
   "outputs": [
    {
     "data": {
      "text/plain": [
       "<matplotlib.collections.PathCollection at 0x1e88b4822e0>"
      ]
     },
     "execution_count": 20,
     "metadata": {},
     "output_type": "execute_result"
    },
    {
     "data": {
      "image/png": "[encoded data removed]",
      "text/plain": [
       "<Figure size 432x288 with 1 Axes>"
      ]
     },
     "metadata": {
      "needs_background": "light"
     },
     "output_type": "display_data"
    }
   ],
   "source": [
    "# Let's try using derivatives \n",
    "# First task, find the position of every pixel \n",
    "\n",
    "X1 = X2 = []\n",
    "Y1 = Y2 =[]\n",
    "\n",
    "a, b = m2.shape\n",
    "\n",
    "for p in range(b): \n",
    "    for q in range(a): \n",
    "        if m2[q][p] != 0: \n",
    "            X2.append(p)\n",
    "            Y2.append(q)\n",
    "plt.scatter(X2, Y2)\n",
    "# plt.plot(X2, Y2)\n",
    "# plt.ylim(max(Y2) + 5, min(Y2))"
   ]
  },
  {
   "cell_type": "markdown",
   "metadata": {},
   "source": [
    "Now we can use an algorithm as follows, we keep moving until we find the next lowest point"
   ]
  },
  {
   "cell_type": "code",
   "execution_count": null,
   "metadata": {},
   "outputs": [],
   "source": []
  },
  {
   "cell_type": "code",
   "execution_count": 21,
   "metadata": {},
   "outputs": [
    {
     "data": {
      "text/plain": [
       "<matplotlib.collections.PathCollection at 0x1e88b5081c0>"
      ]
     },
     "execution_count": 21,
     "metadata": {},
     "output_type": "execute_result"
    },
    {
     "data": {
      "image/png": "[encoded data removed]",
      "text/plain": [
       "<Figure size 432x288 with 1 Axes>"
      ]
     },
     "metadata": {
      "needs_background": "light"
     },
     "output_type": "display_data"
    }
   ],
   "source": [
    "plt.scatter(X2, Y2, color = \"red\")\n",
    "plt.scatter(X2[0], Y2[0], color = \"blue\")\n"
   ]
  },
  {
   "cell_type": "markdown",
   "metadata": {},
   "source": [
    "# Using a Filter"
   ]
  },
  {
   "cell_type": "code",
   "execution_count": 22,
   "metadata": {},
   "outputs": [
    {
     "data": {
      "text/plain": [
       "<matplotlib.collections.PathCollection at 0x1e88b6b0d60>"
      ]
     },
     "execution_count": 22,
     "metadata": {},
     "output_type": "execute_result"
    },
    {
     "data": {
      "image/png": "[encoded data removed]",
      "text/plain": [
       "<Figure size 432x288 with 1 Axes>"
      ]
     },
     "metadata": {
      "needs_background": "light"
     },
     "output_type": "display_data"
    }
   ],
   "source": [
    "from scipy import signal\n",
    "yhat = signal.savgol_filter(Y2, 10, 9) # window size 51, polynomial order 11\n",
    "\n",
    "X2 = np.asarray(X2)\n",
    "Y2 = np.asarray(Y2)\n",
    "\n",
    "plt.plot(X2, yhat)\n",
    "plt.scatter(X2, Y2, color = \"red\")"
   ]
  },
  {
   "cell_type": "code",
   "execution_count": 23,
   "metadata": {},
   "outputs": [
    {
     "name": "stdout",
     "output_type": "stream",
     "text": [
      "(array([ 8, 11, 20], dtype=int64), {'peak_heights': array([8.08123779, 8.11019897, 4.        ]), 'left_thresholds': array([0.49946594, 0.13458252, 1.        ]), 'right_thresholds': array([0.09944153, 0.63404846, 3.        ])})\n",
      "[ 8 11]\n"
     ]
    },
    {
     "data": {
      "text/plain": [
       "<matplotlib.collections.PathCollection at 0x1e88b6be520>"
      ]
     },
     "execution_count": 23,
     "metadata": {},
     "output_type": "execute_result"
    },
    {
     "data": {
      "image/png": "[encoded data removed]",
      "text/plain": [
       "<Figure size 432x288 with 1 Axes>"
      ]
     },
     "metadata": {
      "needs_background": "light"
     },
     "output_type": "display_data"
    },
    {
     "data": {
      "image/png": "[encoded data removed]",
      "text/plain": [
       "<Figure size 432x288 with 1 Axes>"
      ]
     },
     "metadata": {
      "needs_background": "light"
     },
     "output_type": "display_data"
    }
   ],
   "source": [
    "yhat1 = signal.savgol_filter(Y1, 10, 9) # window size 51, polynomial order 11\n",
    "\n",
    "X1 = np.asarray(X1)\n",
    "Y1 = np.asarray(Y1)\n",
    "\n",
    "plt.plot(X1, yhat1)\n",
    "plt.scatter(X1, Y1, color = \"red\")\n",
    "\n",
    "peaks = signal.find_peaks(yhat1, height = 1,  threshold= 0, distance = 1)\n",
    "print(peaks)\n",
    "height = peaks[1]['peak_heights']\n",
    "peak_pos = X1[peaks[0]]\n",
    "\n",
    "print(peak_pos[0:-1])\n",
    "peak_pos= peak_pos[0:-1]\n",
    "fig = plt.figure()\n",
    "\n",
    "ax = fig.subplots()\n",
    "ax.scatter(X1, Y1)\n",
    "ax.scatter(peak_pos, Y1[peak_pos], color = \"r\")"
   ]
  },
  {
   "cell_type": "code",
   "execution_count": 24,
   "metadata": {},
   "outputs": [
    {
     "name": "stdout",
     "output_type": "stream",
     "text": [
      "(array([ 8, 11, 20], dtype=int64), {'peak_heights': array([8.08123779, 8.11019897, 4.        ]), 'left_thresholds': array([0.49946594, 0.13458252, 1.        ]), 'right_thresholds': array([0.09944153, 0.63404846, 3.        ])})\n",
      "[ 8 11]\n"
     ]
    },
    {
     "data": {
      "text/plain": [
       "<matplotlib.collections.PathCollection at 0x1e88b8d7e50>"
      ]
     },
     "execution_count": 24,
     "metadata": {},
     "output_type": "execute_result"
    },
    {
     "data": {
      "image/png": "[encoded data removed]",
      "text/plain": [
       "<Figure size 432x288 with 1 Axes>"
      ]
     },
     "metadata": {
      "needs_background": "light"
     },
     "output_type": "display_data"
    }
   ],
   "source": [
    "peaks = signal.find_peaks(yhat, height = 1,  threshold= 0, distance = 1)\n",
    "print(peaks)\n",
    "height = peaks[1]['peak_heights']\n",
    "peak_pos = X2[peaks[0]]\n",
    "\n",
    "print(peak_pos[0:-1])\n",
    "peak_pos= peak_pos[0:-1]\n",
    "fig = plt.figure()\n",
    "\n",
    "ax = fig.subplots()\n",
    "ax.scatter(X2, Y2)\n",
    "ax.scatter(peak_pos, Y2[peak_pos], color = \"r\")"
   ]
  },
  {
   "cell_type": "markdown",
   "metadata": {},
   "source": [
    "While this does work, the function should be smooth. In order for us to get a correct value, we can manipulate our data such that if for a given Y value, there are several X values, only consider the one which is in the middle. "
   ]
  },
  {
   "cell_type": "code",
   "execution_count": 25,
   "metadata": {},
   "outputs": [
    {
     "name": "stdout",
     "output_type": "stream",
     "text": [
      "(array([20], dtype=int64), {'peak_heights': array([4.]), 'left_thresholds': array([1.]), 'right_thresholds': array([3.])})\n"
     ]
    },
    {
     "data": {
      "text/plain": [
       "<matplotlib.collections.PathCollection at 0x1e88b6f2c40>"
      ]
     },
     "execution_count": 25,
     "metadata": {},
     "output_type": "execute_result"
    },
    {
     "data": {
      "image/png": "[encoded data removed]",
      "text/plain": [
       "<Figure size 432x288 with 1 Axes>"
      ]
     },
     "metadata": {
      "needs_background": "light"
     },
     "output_type": "display_data"
    }
   ],
   "source": [
    "from scipy import signal\n",
    "peaks = signal.find_peaks(Y1, height = 1, threshold = 1, distance = 1)\n",
    "print(peaks)\n",
    "height = peaks[1]['peak_heights']\n",
    "peak_pos = X1[peaks[0]]\n",
    "\n",
    "fig = plt.figure()\n",
    "ax = fig.subplots()\n",
    "ax.scatter(X1, Y1)\n",
    "ax.scatter(peak_pos, height, color = \"r\")"
   ]
  },
  {
   "cell_type": "code",
   "execution_count": 26,
   "metadata": {},
   "outputs": [
    {
     "data": {
      "text/plain": [
       "array([8., 3.])"
      ]
     },
     "execution_count": 26,
     "metadata": {},
     "output_type": "execute_result"
    }
   ],
   "source": [
    "from scipy import signal\n",
    "sig = Y2\n",
    "sig_peaks, _ = signal.find_peaks(Y2)\n",
    "promin = signal.peak_prominences(sig, sig_peaks)[0]\n",
    "promin"
   ]
  },
  {
   "cell_type": "code",
   "execution_count": 27,
   "metadata": {},
   "outputs": [],
   "source": [
    "# def FindDistance(A, B, start, index): \n",
    "#     return np.sqrt(A[start]**2 + B[index]**2)\n",
    "\n",
    "# # def CountUp(starin, x, y): # two arrays\n",
    "# #     while starin != len(x): \n",
    "        \n",
    "# t, b, r, l = GetPositions(m2)\n",
    "# find_x(b, X2, Y2)\n",
    "# # starin = Y2.index(t)\n",
    "# # startpos = [X2[starin], t]\n",
    "# # if starin == 0:\n",
    "    \n",
    "# #     # continue \n",
    "# # elif starin > 0: \n",
    "# #     #check till  zero and then back \n",
    "\n",
    "# # plt.scatter(X2[Y2.index(t)], t)"
   ]
  },
  {
   "cell_type": "markdown",
   "metadata": {},
   "source": [
    "# Using Derivatives"
   ]
  },
  {
   "cell_type": "code",
   "execution_count": 28,
   "metadata": {},
   "outputs": [
    {
     "name": "stdout",
     "output_type": "stream",
     "text": [
      "[13 18]\n"
     ]
    },
    {
     "data": {
      "text/plain": [
       "<matplotlib.collections.PathCollection at 0x1e88b6a99d0>"
      ]
     },
     "execution_count": 28,
     "metadata": {},
     "output_type": "execute_result"
    },
    {
     "data": {
      "image/png": "[encoded data removed]",
      "text/plain": [
       "<Figure size 432x288 with 1 Axes>"
      ]
     },
     "metadata": {
      "needs_background": "light"
     },
     "output_type": "display_data"
    }
   ],
   "source": [
    "from operator import invert\n",
    "from scipy.signal import argrelmax, argrelextrema\n",
    "# smoothy = smoother(np.asarray(Y), 51)\n",
    "# smoothx = smoother(np.asarray(X), 21)\n",
    "y1 = np.asarray(Y1)\n",
    "y2 = np.asarray(X2)\n",
    "dy = np.diff(y1)\n",
    "dy = smoother(dy, 1)\n",
    "maxs = argrelextrema(dy, np.greater)\n",
    "# mins = argrelextrema(Y, np.less)\n",
    "# plt.scatter(smoothx, smoothy)\n",
    "plt.scatter(X1, Y1)\n",
    "plt.ylim(max(Y1), min(Y1))\n",
    "a = maxs[0]\n",
    "Xn = []\n",
    "Yn = []\n",
    "print(a)\n",
    "for g in a:\n",
    "    if g < len(X1):  \n",
    "        Xn.append(X1[g]) \n",
    "        Yn.append(Y1[g])\n",
    "plt.scatter(Xn, Yn, color = \"red\")\n",
    "\n",
    "# plt.scatter(Xn, Yn, color = \"red\")\n",
    "\n",
    "# plt.scatter(X[a[1]], Y[a[1]], color = \"red\")\n",
    "# plt.scatter(X[a[2]], Y[a[2]], color = \"red\")\n",
    "# res1 = np.where(dy == max(dy))[0][0]\n",
    "# res2 = np.where(dy == min(dy))[0][0]"
   ]
  },
  {
   "cell_type": "code",
   "execution_count": 29,
   "metadata": {},
   "outputs": [],
   "source": [
    "# An attempt to get the maximum value \n",
    "\n",
    "# def getMax(arr, le): \n",
    "#      found = False\n",
    "#      pos = 0 \n",
    "#      npos = 0\n",
    "#      m = 0 \n",
    "#      nm = 0\n",
    "     \n",
    "#      while found == False: \n",
    "#           npos = pos + le\n",
    "#           m = max(arr[pos:npos])\n",
    "#           pos = np.where(arr[pos:npos] == m)[0\n",
    "#           nm = max(arr[npos:npos + le])\n",
    "#           if nm == m: \n",
    "#                found = True\n",
    "#      print(pos, m)\n",
    "\n",
    "\n",
    "# getMax(np.asarray(Y1), 2)"
   ]
  },
  {
   "cell_type": "code",
   "execution_count": null,
   "metadata": {},
   "outputs": [],
   "source": []
  },
  {
   "cell_type": "markdown",
   "metadata": {},
   "source": [
    "# Using Interpolation"
   ]
  },
  {
   "cell_type": "code",
   "execution_count": 30,
   "metadata": {},
   "outputs": [],
   "source": [
    "def checker(ynew):\n",
    "    g = 1\n",
    "    Done = False\n",
    "    con = True\n",
    "    max = []\n",
    "    for i in range(1, len(ynew)):  # go through the graph\n",
    "        con = True                 # flag on to continue or not\n",
    "        print(i)\n",
    "        while g != 5 or con == True:   # tells you whether to continue or not\n",
    "            if i - g < 0 or i + g > len(ynew):\n",
    "                con = False\n",
    "                print(\"reached an end\")\n",
    "            if ynew[i - g] < ynew[i] and ynew[i + g] > ynew[i] and con == True: # check if the gth point behind the current point \n",
    "              \n",
    "                if  g < 5: \n",
    "                    g += 1 \n",
    "                if  g >=5: \n",
    "                    max.append(i)\n",
    "            else: \n",
    "                con = False\n",
    "    return max\n",
    "\n",
    "# m = checker(Y2)\n",
    "# This funciton checks to see if we have reached the end of an array"
   ]
  },
  {
   "cell_type": "code",
   "execution_count": null,
   "metadata": {},
   "outputs": [],
   "source": []
  },
  {
   "cell_type": "code",
   "execution_count": 31,
   "metadata": {},
   "outputs": [],
   "source": [
    "# plt.scatter(X, Y)\n",
    "# plt.scatter(X[res1], Y[res1], color = \"red\")\n",
    "# plt.scatter(X[res2], Y[res2], color = \"red\")"
   ]
  },
  {
   "cell_type": "code",
   "execution_count": 8,
   "metadata": {},
   "outputs": [
    {
     "name": "stdout",
     "output_type": "stream",
     "text": [
      "1.1700000000000002\n",
      "994.0\n",
      "987.0\n",
      "979.0\n",
      "970.0\n",
      "961.0\n",
      "636.0 167.0 158.0\n"
     ]
    }
   ],
   "source": [
    "import numpy\n",
    "\n",
    "villagers = 1000 # number of villagerss\n",
    "sad = 1000\n",
    "happy = 0\n",
    "neutral = 0 \n",
    "\n",
    "\n",
    "def sadtohapp(a): \n",
    "    return numpy.ceil(a*0.02) # give num of attentives that get bored\n",
    "\n",
    "def happtosad(a): \n",
    "    return numpy.ceil(a*0.3) # give num of attentives that get bored\n",
    "\n",
    "def happtoneutral(b): \n",
    "    return numpy.ceil(b* 0.2) # gives num of bored that become attentive\n",
    "\n",
    "def neutraltohapp(a): \n",
    "    return numpy.ceil(a*0.4) # give num of attentives that get bored\n",
    "\n",
    "def neutraltosad(c): \n",
    "    return numpy.ceil(c * 0.02)\n",
    "\n",
    "def sadtoneutral(c): \n",
    "    return numpy.ceil(c * 0.05)\n",
    "\n",
    "print(0.2 + 0.3 + 0.2 + 0.4 + 0.02 + 0.05)\n",
    "\n",
    "sad0 = 0.4 * 1000\n",
    "happy0 = 0.5 * 1000 \n",
    "neutral0 = 0.1  * 1000\n",
    "\n",
    "for i in range(5): \n",
    "    sad = sad0\n",
    "    neutral = neutral0\n",
    "    happy = happy0\n",
    "\n",
    "    sad0 = sad + happtosad(happy) + neutraltosad(neutral) - sadtohapp(sad) - sadtoneutral(sad)\n",
    "    neutral0 = neutral0 + happtoneutral(happy) + sadtoneutral(sad) - neutraltohapp(neutral) - neutraltosad(neutral)\n",
    "    happy0 = happy0 + neutraltohapp(neutral) + sadtohapp(neutral) - happtoneutral(happy) - happtosad(happy) \n",
    "\n",
    "    print(sad0 + happy0 + neutral0)\n",
    "\n",
    "print(sad0, neutral0, happy0)"
   ]
  }
 ],
 "metadata": {
  "kernelspec": {
   "display_name": "Python 3.9.12 ('base')",
   "language": "python",
   "name": "python3"
  },
  "language_info": {
   "codemirror_mode": {
    "name": "ipython",
    "version": 3
   },
   "file_extension": ".py",
   "mimetype": "text/x-python",
   "name": "python",
   "nbconvert_exporter": "python",
   "pygments_lexer": "ipython3",
   "version": "3.9.12"
  },
  "orig_nbformat": 4,
  "vscode": {
   "interpreter": {
    "hash": "d850ae00bc40dfc8433057f5becab0d0ff9bac1b3b7822254cc13391e260b37a"
   }
  }
 },
 "nbformat": 4,
 "nbformat_minor": 2
}
