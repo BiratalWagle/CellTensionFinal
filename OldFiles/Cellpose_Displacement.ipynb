{
 "cells": [
  {
   "cell_type": "markdown",
   "metadata": {},
   "source": [
    "# Finding the Displacement\n",
    " \n",
    " This code is used to get the displacment of the edges of specific images in order to do this, lets first get the requried outline"
   ]
  },
  {
   "cell_type": "code",
   "execution_count": 2,
   "metadata": {},
   "outputs": [],
   "source": [
    "# Imports\n",
    "\n",
    "import numpy as np\n",
    "import matplotlib.pyplot as plt\n",
    "from cellpose import models, io\n",
    "from cellpose.io import imread\n",
    "from pathlib import Path\n",
    "import os\n",
    "from Modules import specificOutline, getFileDir, getOutlines, smoother, splitImg, plotSide\n",
    "import Modules_Displacement\n",
    "import Modules\n",
    "from PIL import Image"
   ]
  },
  {
   "cell_type": "markdown",
   "metadata": {},
   "source": [
    "Now, we need a list with all the .npy files, that way we can manipulate the outlines as we wish "
   ]
  },
  {
   "cell_type": "code",
   "execution_count": 3,
   "metadata": {},
   "outputs": [],
   "source": [
    "# List of Files\n",
    "# Importing all the files\n",
    "basedir = os.path.join(Path.cwd(), \"MCA_Normal\")\n",
    "files = io.get_image_files(basedir, \"\")\n",
    "\n",
    "# Makes the directy to point to the seg files\n",
    "dir = []\n",
    "for f in files: \n",
    "    dir.append((os.path.join(basedir, f) + \"_seg.npy\").replace(\".tif\", \"\"))\n",
    "dir = dir"
   ]
  },
  {
   "cell_type": "markdown",
   "metadata": {},
   "source": [
    "As the machine learning process will mis-label certain ROIs, we need to find a way to obtain the correct ROI. We can't just say \"pick the 13th ROI for each image\" because the 13th ROI may refer to different cells in each image. In order to fix this, we can approximate the common coordinates of the ROI we want, and store whatever ROI that is in a list named \"roi\\_name\" "
   ]
  },
  {
   "cell_type": "code",
   "execution_count": 4,
   "metadata": {},
   "outputs": [],
   "source": [
    "\n",
    "roi_name = [] # a list containing the name of the roi we need\n",
    "\n",
    "for i in range(len(dir)):  \n",
    "    dat = np.load(dir[i], allow_pickle=True).item()\n",
    "    masks = dat['masks'] # Using the masks gives us a larger target to select from than outlines\n",
    "    filenam = dat['filename']\n",
    "# box = (25, 40, 125, 120)\n",
    "    width, height = masks.shape\n",
    "    neededROI = masks[width//2][height//2] # the general area of where our ROI will always be\n",
    "\n",
    "    # the below code saves the outline in an image file\n",
    "\n",
    "    if neededROI != 0: \n",
    "        roi_name.append([i, neededROI])\n",
    "        newmas = specificOutline(masks, neededROI)\n",
    "        filedir = (os.path.join(Path.cwd(), \"SCA_images\" ))\n",
    "        nam = str(i) + '.png'\n",
    "        # plt.gca().set_axis_off()\n",
    "        # plt.imsave(os.path.join(filedir, nam), newmas ,cmap = 'gray')\n"
   ]
  },
  {
   "cell_type": "code",
   "execution_count": 5,
   "metadata": {},
   "outputs": [
    {
     "data": {
      "text/plain": [
       "<matplotlib.image.AxesImage at 0x2394a9e0b50>"
      ]
     },
     "execution_count": 5,
     "metadata": {},
     "output_type": "execute_result"
    },
    {
     "data": {
      "image/png": "[encoded data removed]",
      "text/plain": [
       "<Figure size 432x288 with 1 Axes>"
      ]
     },
     "metadata": {
      "needs_background": "light"
     },
     "output_type": "display_data"
    }
   ],
   "source": [
    "filenum = 4 # The file, or frame of the image you wish to open\n",
    "\n",
    "a, b = roi_name[filenum]\n",
    "datFirst = np.load(dir[a], allow_pickle=True).item()\n",
    "arr = datFirst['outlines']\n",
    "darr = datFirst['masks']\n",
    "r = specificOutline(arr, b) # image of the outline\n",
    "dr = specificOutline(darr, b) # image of the mask\n",
    "\n",
    "plt.imshow(r)\n",
    "q, v, w, j = Modules.GetPositions(r)\n",
    "plt.imshow(Modules.Shrink(r, 10, q, v, w, j, manual=True))"
   ]
  },
  {
   "cell_type": "code",
   "execution_count": 6,
   "metadata": {},
   "outputs": [],
   "source": [
    "filenum = 4 # The file, or frame of the image you wish to open\n",
    "\n",
    "a, b = roi_name[filenum]\n",
    "datFirst = np.load(dir[a], allow_pickle=True).item()\n",
    "arr = datFirst['outlines']\n",
    "darr = datFirst['masks']\n",
    "r = specificOutline(arr, b) # image of the outline\n",
    "dr = specificOutline(darr, b) # image of the mask\n",
    "q, v, w, j = Modules.GetPositions(r)\n",
    "\n",
    "# The below code will now create a list of the rois\n",
    "\n",
    "outlineList = []\n",
    "maskList = []\n",
    "\n",
    "for i in range(len(roi_name)): \n",
    "    a, b = roi_name[i]\n",
    "    datFirst = np.load(dir[a], allow_pickle=True).item()\n",
    "    arr = datFirst['outlines']\n",
    "    darr = datFirst['masks']\n",
    "    Modules.Shrink(specificOutline(arr, b), 5, q, v, w, j, manual=True)\n",
    "    outlineList.append(Modules.Shrink(specificOutline(arr, b), 5, q, v, w, j, manual=True))\n",
    "    maskList.append(Modules.Shrink(specificOutline(darr, b), 5, q, v, w, j, manual=True))"
   ]
  },
  {
   "cell_type": "code",
   "execution_count": null,
   "metadata": {},
   "outputs": [],
   "source": []
  },
  {
   "cell_type": "markdown",
   "metadata": {},
   "source": [
    "We have several methods of getting the edges. The most basic way is to detect the top, bottom, left and right most pixels in each frame and compare them\n"
   ]
  },
  {
   "cell_type": "code",
   "execution_count": 7,
   "metadata": {},
   "outputs": [
    {
     "data": {
      "text/plain": [
       "<matplotlib.image.AxesImage at 0x2397b989220>"
      ]
     },
     "execution_count": 7,
     "metadata": {},
     "output_type": "execute_result"
    },
    {
     "data": {
      "image/png": "[encoded data removed]",
      "text/plain": [
       "<Figure size 432x288 with 1 Axes>"
      ]
     },
     "metadata": {
      "needs_background": "light"
     },
     "output_type": "display_data"
    }
   ],
   "source": [
    "\n",
    "a = []\n",
    "outl = outlineList[26]\n",
    "a.append(Modules_Displacement.selfGetEdges(outl))\n",
    "\n",
    "a = np.asarray(a)\n",
    "L1 = L2 = R1= R2= T1= T2= B1= B2 = np.zeros(99)\n",
    "\n",
    "L1 = a[:, 0]\n",
    "L2 = a[:, 1]\n",
    "R1 = a[:, 2]\n",
    "R2 = a[:, 3]\n",
    "T1 = a[:, 4]\n",
    "T2 = a[:, 5]\n",
    "B1 = a[:, 6]\n",
    "B2 = a[:, 7]\n",
    "\n",
    "plt.scatter(L1, L2)\n",
    "plt.scatter(R1, R2)\n",
    "plt.scatter(T2, T1)\n",
    "plt.scatter(B1, B2)\n",
    "\n",
    "plt.imshow(outl)\n"
   ]
  },
  {
   "cell_type": "code",
   "execution_count": 8,
   "metadata": {},
   "outputs": [],
   "source": [
    "# a = []\n",
    "# for i in maskList: \n",
    "#     a.append(Modules_Displacement.selfGetEdges(i))\n",
    "\n",
    "# a = np.asarray(a)\n",
    "# L1 = L2 = R1= R2= T1= T2= B1= B2 = np.zeros(99)\n",
    "\n",
    "# L1 = a[:, 0]\n",
    "# L2 = a[:, 1]\n",
    "# R1 = a[:, 2]\n",
    "# R2 = a[:, 3]\n",
    "# T1 = a[:, 4]\n",
    "# T2 = a[:, 5]\n",
    "# B1 = a[:, 6]\n",
    "# B2 = a[:, 7]\n",
    "\n",
    "\n",
    "\n",
    "# v = 12\n",
    "\n",
    "# plt.scatter(L1[v], L2[v])\n",
    "# plt.scatter(R1[v], R2[v])\n",
    "# plt.scatter(T2[v], T1[v])\n",
    "# plt.scatter(B1[v], B2[v])\n"
   ]
  },
  {
   "cell_type": "code",
   "execution_count": 9,
   "metadata": {},
   "outputs": [
    {
     "data": {
      "text/plain": [
       "<matplotlib.image.AxesImage at 0x2397a896760>"
      ]
     },
     "execution_count": 9,
     "metadata": {},
     "output_type": "execute_result"
    },
    {
     "data": {
      "image/png": "[encoded data removed]",
      "text/plain": [
       "<Figure size 432x288 with 1 Axes>"
      ]
     },
     "metadata": {
      "needs_background": "light"
     },
     "output_type": "display_data"
    }
   ],
   "source": [
    "plt.scatter(L1, L2)\n",
    "plt.scatter(R1, R2)\n",
    "plt.scatter(T2, T1)\n",
    "plt.scatter(B1, B2)\n",
    "\n",
    "plt.imshow(outlineList[10])"
   ]
  },
  {
   "cell_type": "markdown",
   "metadata": {},
   "source": [
    "However, we Can try other methods as well. Such as Contour detection\n",
    "\n",
    "# Contour Detection\n",
    "this by far seems to be the most promising method of detetecting the cell edges"
   ]
  },
  {
   "cell_type": "code",
   "execution_count": 10,
   "metadata": {},
   "outputs": [
    {
     "name": "stdout",
     "output_type": "stream",
     "text": [
      "(147, 151)\n"
     ]
    }
   ],
   "source": [
    "print(r.shape)\n",
    "a = []\n",
    "# a.append(Modules_Displacement.getEdges(r)) # This module uses the contours\n",
    "L1 = L2 = R1= R2= T1= T2= B1= B2 = np.zeros(99)\n",
    "# a = np.asarray(a)\n",
    "\n",
    "\n",
    "# The following code creates a list of the vertexes\n",
    "for i in range(len(maskList)): \n",
    "   a.append(Modules_Displacement.getEdges(maskList[i]))\n",
    "a = np.asarray(a)\n",
    "\n",
    "\n",
    "L1 = a[:, 0]\n",
    "L2 = a[:, 1]\n",
    "R1 = a[:, 2]\n",
    "R2 = a[:, 3]\n",
    "T1 = a[:, 4]\n",
    "T2 = a[:, 5]\n",
    "B1 = a[:, 6]\n",
    "B2 = a[:, 7]"
   ]
  },
  {
   "cell_type": "code",
   "execution_count": 11,
   "metadata": {},
   "outputs": [
    {
     "data": {
      "text/plain": [
       "<matplotlib.collections.PathCollection at 0x2397a3b4940>"
      ]
     },
     "execution_count": 11,
     "metadata": {},
     "output_type": "execute_result"
    },
    {
     "data": {
      "image/png": "[encoded data removed]",
      "text/plain": [
       "<Figure size 432x288 with 1 Axes>"
      ]
     },
     "metadata": {
      "needs_background": "light"
     },
     "output_type": "display_data"
    }
   ],
   "source": [
    "\n",
    "v = 40\n",
    "plt.imshow(outlineList[v])\n",
    "plt.scatter(L1[v], L2[v])\n",
    "plt.scatter(R1[v], R2[v])\n",
    "plt.scatter(T2[v], T1[v])\n",
    "plt.scatter(B1[v], B2[v])"
   ]
  },
  {
   "cell_type": "code",
   "execution_count": 12,
   "metadata": {},
   "outputs": [],
   "source": [
    "a = []\n",
    "for i in maskList: \n",
    "    a.append(Modules_Displacement.getEdges(i))\n",
    "\n",
    "a = np.asarray(a)\n",
    "L1 = L2 = R1= R2= T1= T2= B1= B2 = np.zeros(99)\n",
    "\n",
    "L1 = a[:, 0]\n",
    "L2 = a[:, 1]\n",
    "R1 = a[:, 2]\n",
    "R2 = a[:, 3]\n",
    "T1 = a[:, 4]\n",
    "T2 = a[:, 5]\n",
    "B1 = a[:, 6]\n",
    "B2 = a[:, 7]\n"
   ]
  },
  {
   "cell_type": "markdown",
   "metadata": {},
   "source": [
    "This is better, however, it would be preferable if we could detect MORE vertex points, such as the ones at the bottom and the sides"
   ]
  },
  {
   "cell_type": "markdown",
   "metadata": {},
   "source": [
    "One way to go about this is to try and half the image so that it turns into two curves which are not enclosed. Now, we can find the peaks and troughs of these values based on the slope of a specific part "
   ]
  },
  {
   "cell_type": "markdown",
   "metadata": {},
   "source": [
    "# Splitting and using algorithms"
   ]
  },
  {
   "cell_type": "code",
   "execution_count": null,
   "metadata": {},
   "outputs": [],
   "source": [
    "# This code will get me the rows I need\n",
    "# This part of the code will get me the top, the mid, the right and the bottom parts of the figure. \n",
    "# With this we can crop the matrix for only the useful data\n",
    "points = []\n",
    "\n",
    "m1, m2 = Modules.splitImg(r)\n",
    "\n",
    "\n",
    "a = []\n",
    "a.append(Modules_Displacement.getEdges(m1)) # This module uses the contours\n",
    "L1 = L2 = R1= R2= T1= T2= B1= B2 = np.zeros(99)\n",
    "a = np.asarray(a)\n",
    "\n",
    "fL1 = a[:, 0]\n",
    "fL2 = a[:, 1]\n",
    "fR1 = a[:, 2]\n",
    "fR2 = a[:, 3]\n",
    "fT1 = a[:, 4]\n",
    "fT2 = a[:, 5]\n",
    "fB1 = a[:, 6]\n",
    "fB2 = a[:, 7]\n",
    "\n",
    "plt.scatter(fL1, fL2)\n",
    "plt.scatter(fR1, fR2)\n",
    "plt.scatter(fT1, fT2)\n",
    "plt.scatter(fB1, fB2)\n",
    "plt.imshow(m1)\n",
    "plt.show()\n",
    "\n",
    "a = []\n",
    "a.append(Modules_Displacement.getEdges(m2)) # This module uses the contours\n",
    "L1 = L2 = R1= R2= T1= T2= B1= B2 = np.zeros(99)\n",
    "a = np.asarray(a)\n",
    "\n",
    "sL1 = a[:, 0]\n",
    "sL2 = a[:, 1]\n",
    "sR1 = a[:, 2]\n",
    "sR2 = a[:, 3]\n",
    "sT1 = a[:, 4]\n",
    "sT2 = a[:, 5]\n",
    "sB1 = a[:, 6]\n",
    "sB2 = a[:, 7]\n",
    "\n",
    "\n",
    "plt.scatter(sL1, sL2)\n",
    "plt.scatter(sR1, sR2)\n",
    "plt.scatter(sT1, sT2)\n",
    "plt.scatter(sB1, sB2)\n",
    "plt.imshow(m2)"
   ]
  },
  {
   "cell_type": "markdown",
   "metadata": {},
   "source": [
    "From this, we can see we have now gotten 6 vertex points. We can move on "
   ]
  },
  {
   "cell_type": "markdown",
   "metadata": {},
   "source": [
    "# Turning to equations\n",
    "\n",
    "These look like graphs. Perhaps we could consider these to be individal points and use interpolation to create a curve"
   ]
  },
  {
   "cell_type": "code",
   "execution_count": null,
   "metadata": {},
   "outputs": [],
   "source": [
    "\n",
    "X2 = []\n",
    "Y2 = []\n",
    "\n",
    "a, b = m2.shape\n",
    "\n",
    "for p in range(b): \n",
    "    for q in range(a): \n",
    "        if m2[q][p] != 0: \n",
    "           X2.append(p)\n",
    "           Y2.append(q)\n",
    "                \n",
    "\n",
    "X2 = np.asarray(X2)\n",
    "Y2 = np.asarray(Y2)\n",
    "plt.scatter(X2, Y2)\n"
   ]
  },
  {
   "cell_type": "code",
   "execution_count": null,
   "metadata": {},
   "outputs": [],
   "source": [
    "X1 = []\n",
    "Y1 = []\n",
    "\n",
    "c, d = m1.shape\n",
    "for y in range(c): \n",
    "    for x in range(d):\n",
    "        if m1[y][x] != 0: \n",
    "            X1.append(x)\n",
    "            Y1.append(y)\n",
    "                \n",
    "\n",
    "X1 = np.asarray(X1)\n",
    "Y1 = np.asarray(Y1)\n",
    "\n",
    "plt.scatter(X1, Y1)"
   ]
  },
  {
   "cell_type": "code",
   "execution_count": null,
   "metadata": {},
   "outputs": [],
   "source": [
    "\n",
    "# # small = 0\n",
    "# # big = 0 \n",
    "# # i = 0\n",
    "# # def looper(X2, Y2): \n",
    "# #     b = 0 \n",
    "# #     s = 0\n",
    "# #     ns = 0 \n",
    "# #     i = 0\n",
    "\n",
    "# #     while Y2[i] <= Y2[i + 1] : \n",
    "# #         if Y2[i] < Y2[s]: \n",
    "# #             s = i\n",
    "# #             i +=1 \n",
    "# #     b = i \n",
    "# #     # big.append(b)\n",
    "# #     # small.append(s)\n",
    "  \n",
    "# #     while Y2[i] >= Y2[i + 1] and i != len(Y2) - 2: \n",
    "# #         i += 1\n",
    "# #     ns = i\n",
    "\n",
    "# #     if Y2[-1] == Y2[ns]: \n",
    "# #         X2 = []\n",
    "# #         Y2 = []\n",
    "# #     else: \n",
    "# #         print(ns)\n",
    "# #         nX2 = X2[ns::]\n",
    "# #         nY2 = Y2[ns::]\n",
    "#     # nextsmal.append(ns)\n",
    "#     # plt.scatter(X2, Y2)\n",
    "#     # plt.scatter(X2[small], Y2[small])\n",
    "#     # plt.scatter(X2[big], Y2[big])\n",
    "#     # plt.scatter(X2[nextsmal], Y2[nextsmal])\n",
    " \n",
    "#     # if len(nX2 > 5): \n",
    "#     #     print(\"one\")\n",
    "#     #     # looper(nY2, nX2, small, big, nextsmal)\n",
    "#     # else: \n",
    "#     # return small, big, nextsmal\n",
    "#     return s, b, ns, nX2, nY2\n",
    "\n",
    "# nX2 = X2\n",
    "# nY2 = Y2 \n",
    "# count = 0 \n",
    "# # while len(nY2) > 3 and count < 10: \n",
    "# a, b, c, nX2, nY2 =looper(nX2, nY2)\n",
    "# plt.scatter(nX2, nY2)\n",
    "# plt.scatter(nX2[a], nY2[a])\n",
    "# plt.scatter(nX2[b], nY2[b])\n",
    "# plt.scatter(nX2[c], nY2[c])\n",
    "# count += 1 \n",
    "# print(c)"
   ]
  },
  {
   "cell_type": "code",
   "execution_count": null,
   "metadata": {},
   "outputs": [],
   "source": [
    "# ns = 27\n",
    "\n",
    "# nX2 = X2[ns::]\n",
    "# nY2 = Y2[ns::]\n",
    "\n",
    "# plt.scatter(nX2, nY2)\n",
    "\n",
    "# a, b, c = looper(nX2, nY2)\n",
    "# print(b)\n",
    "# plt.scatter(nX2[a], nY2[a])\n",
    "# plt.scatter(nX2[b[1]], nY2[b[1]])"
   ]
  },
  {
   "cell_type": "code",
   "execution_count": null,
   "metadata": {},
   "outputs": [],
   "source": [
    "from operator import invert\n",
    "from scipy.signal import argrelmax, argrelextrema\n",
    "# smoothy = smoother(np.asarray(Y), 51)\n",
    "# smoothx = smoother(np.asarray(X), 21)\n",
    "\n",
    "# dy = smoother(Y1)\n",
    "\n",
    "# plt.scatter(X1, dy )\n",
    "\n",
    "maxs = argrelextrema(Y1, np.greater)\n",
    "mins = argrelextrema(Y1, np.less)\n",
    "\n",
    "print(maxs)\n",
    "# # plt.scatter(smoothx, smoothy)\n",
    "# plt.scatter(X1, Y1)\n",
    "# plt.ylim(max(Y1), min(Y1))\n",
    "# a = maxs[0]\n",
    "# Xn = []\n",
    "# Yn = []\n",
    "# print(a)\n",
    "# for g in a:\n",
    "#     if g < len(X1):  \n",
    "#         Xn.append(X1[g]) \n",
    "#         Yn.append(Y1[g])\n",
    "# plt.scatter(Xn, Yn, color = \"red\")\n",
    "\n",
    "# # plt.scatter(Xn, Yn, color = \"red\")\n",
    "\n",
    "# # plt.scatter(X[a[1]], Y[a[1]], color = \"red\")\n",
    "# # plt.scatter(X[a[2]], Y[a[2]], color = \"red\")\n",
    "# # res1 = np.where(dy == max(dy))[0][0]\n",
    "# # res2 = np.where(dy == min(dy))[0][0]"
   ]
  },
  {
   "cell_type": "code",
   "execution_count": null,
   "metadata": {},
   "outputs": [],
   "source": [
    "# Let's try using derivatives \n",
    "# First task, find the position of every pixel \n",
    "\n",
    "X1 = X2 = []\n",
    "Y1 = Y2 =[]\n",
    "\n",
    "a, b = m2.shape\n",
    "\n",
    "for p in range(b): \n",
    "    for q in range(a): \n",
    "        if m2[q][p] != 0: \n",
    "            X2.append(p)\n",
    "            Y2.append(q)\n",
    "plt.scatter(X2, Y2)\n",
    "# plt.plot(X2, Y2)\n",
    "# plt.ylim(max(Y2) + 5, min(Y2))"
   ]
  },
  {
   "cell_type": "markdown",
   "metadata": {},
   "source": [
    "Now we can use an algorithm as follows, we keep moving until we find the next lowest point"
   ]
  },
  {
   "cell_type": "code",
   "execution_count": null,
   "metadata": {},
   "outputs": [],
   "source": []
  },
  {
   "cell_type": "code",
   "execution_count": null,
   "metadata": {},
   "outputs": [],
   "source": [
    "plt.scatter(X2, Y2, color = \"red\")\n",
    "plt.scatter(X2[0], Y2[0], color = \"blue\")\n"
   ]
  },
  {
   "cell_type": "markdown",
   "metadata": {},
   "source": [
    "# Using a Filter"
   ]
  },
  {
   "cell_type": "code",
   "execution_count": null,
   "metadata": {},
   "outputs": [],
   "source": [
    "from scipy import signal\n",
    "yhat = signal.savgol_filter(Y2, 51, 11) # window size 51, polynomial order 11\n",
    "\n",
    "X2 = np.asarray(X2)\n",
    "Y2 = np.asarray(Y2)\n",
    "\n",
    "plt.plot(X2, yhat)\n",
    "plt.scatter(X2, Y2, color = \"red\")"
   ]
  },
  {
   "cell_type": "code",
   "execution_count": null,
   "metadata": {},
   "outputs": [],
   "source": [
    "yhat1 = signal.savgol_filter(Y1, 51, 11) # window size 51, polynomial order 11\n",
    "\n",
    "X1 = np.asarray(X1)\n",
    "Y1 = np.asarray(Y1)\n",
    "\n",
    "plt.plot(X1, yhat1)\n",
    "plt.scatter(X1, Y1, color = \"red\")\n",
    "\n",
    "peaks = signal.find_peaks(yhat1, height = 1,  threshold= 0, distance = 1)\n",
    "print(peaks)\n",
    "height = peaks[1]['peak_heights']\n",
    "peak_pos = X1[peaks[0]]\n",
    "\n",
    "print(peak_pos[0:-1])\n",
    "peak_pos= peak_pos[0:-1]\n",
    "fig = plt.figure()\n",
    "\n",
    "ax = fig.subplots()\n",
    "ax.scatter(X1, Y1)\n",
    "ax.scatter(peak_pos, Y1[peak_pos], color = \"r\")"
   ]
  },
  {
   "cell_type": "code",
   "execution_count": null,
   "metadata": {},
   "outputs": [],
   "source": [
    "peaks = signal.find_peaks(yhat, height = 1,  threshold= 0, distance = 1)\n",
    "print(peaks)\n",
    "height = peaks[1]['peak_heights']\n",
    "peak_pos = X2[peaks[0]]\n",
    "\n",
    "print(peak_pos[0:-1])\n",
    "peak_pos= peak_pos[0:-1]\n",
    "fig = plt.figure()\n",
    "\n",
    "ax = fig.subplots()\n",
    "ax.scatter(X2, Y2)\n",
    "ax.scatter(peak_pos, Y2[peak_pos], color = \"r\")"
   ]
  },
  {
   "cell_type": "markdown",
   "metadata": {},
   "source": [
    "While this does work, the function should be smooth. In order for us to get a correct value, we can manipulate our data such that if for a given Y value, there are several X values, only consider the one which is in the middle. "
   ]
  },
  {
   "cell_type": "code",
   "execution_count": null,
   "metadata": {},
   "outputs": [],
   "source": [
    "from scipy import signal\n",
    "peaks = signal.find_peaks(Y1, height = 1, threshold = 1, distance = 1)\n",
    "print(peaks)\n",
    "height = peaks[1]['peak_heights']\n",
    "peak_pos = X1[peaks[0]]\n",
    "\n",
    "fig = plt.figure()\n",
    "ax = fig.subplots()\n",
    "ax.scatter(X1, Y1)\n",
    "ax.scatter(peak_pos, height, color = \"r\")"
   ]
  },
  {
   "cell_type": "code",
   "execution_count": null,
   "metadata": {},
   "outputs": [],
   "source": [
    "from scipy import signal\n",
    "sig = Y2\n",
    "sig_peaks, _ = signal.find_peaks(Y2)\n",
    "promin = signal.peak_prominences(sig, sig_peaks)[0]\n",
    "promin"
   ]
  },
  {
   "cell_type": "code",
   "execution_count": null,
   "metadata": {},
   "outputs": [],
   "source": [
    "# def FindDistance(A, B, start, index): \n",
    "#     return np.sqrt(A[start]**2 + B[index]**2)\n",
    "\n",
    "# # def CountUp(starin, x, y): # two arrays\n",
    "# #     while starin != len(x): \n",
    "        \n",
    "# t, b, r, l = GetPositions(m2)\n",
    "# find_x(b, X2, Y2)\n",
    "# # starin = Y2.index(t)\n",
    "# # startpos = [X2[starin], t]\n",
    "# # if starin == 0:\n",
    "    \n",
    "# #     # continue \n",
    "# # elif starin > 0: \n",
    "# #     #check till  zero and then back \n",
    "\n",
    "# # plt.scatter(X2[Y2.index(t)], t)"
   ]
  },
  {
   "cell_type": "markdown",
   "metadata": {},
   "source": [
    "# Using Derivatives"
   ]
  },
  {
   "cell_type": "code",
   "execution_count": null,
   "metadata": {},
   "outputs": [],
   "source": [
    "from operator import invert\n",
    "from scipy.signal import argrelmax, argrelextrema\n",
    "# smoothy = smoother(np.asarray(Y), 51)\n",
    "# smoothx = smoother(np.asarray(X), 21)\n",
    "y1 = np.asarray(Y1)\n",
    "y2 = np.asarray(X2)\n",
    "dy = np.diff(y1)\n",
    "dy = smoother(dy, 1)\n",
    "maxs = argrelextrema(dy, np.greater)\n",
    "# mins = argrelextrema(Y, np.less)\n",
    "# plt.scatter(smoothx, smoothy)\n",
    "plt.scatter(X1, Y1)\n",
    "plt.ylim(max(Y1), min(Y1))\n",
    "a = maxs[0]\n",
    "Xn = []\n",
    "Yn = []\n",
    "print(a)\n",
    "for g in a:\n",
    "    if g < len(X1):  \n",
    "        Xn.append(X1[g]) \n",
    "        Yn.append(Y1[g])\n",
    "plt.scatter(Xn, Yn, color = \"red\")\n",
    "\n",
    "# plt.scatter(Xn, Yn, color = \"red\")\n",
    "\n",
    "# plt.scatter(X[a[1]], Y[a[1]], color = \"red\")\n",
    "# plt.scatter(X[a[2]], Y[a[2]], color = \"red\")\n",
    "# res1 = np.where(dy == max(dy))[0][0]\n",
    "# res2 = np.where(dy == min(dy))[0][0]"
   ]
  },
  {
   "cell_type": "code",
   "execution_count": null,
   "metadata": {},
   "outputs": [],
   "source": [
    "# An attempt to get the maximum value \n",
    "\n",
    "# def getMax(arr, le): \n",
    "#      found = False\n",
    "#      pos = 0 \n",
    "#      npos = 0\n",
    "#      m = 0 \n",
    "#      nm = 0\n",
    "     \n",
    "#      while found == False: \n",
    "#           npos = pos + le\n",
    "#           m = max(arr[pos:npos])\n",
    "#           pos = np.where(arr[pos:npos] == m)[0\n",
    "#           nm = max(arr[npos:npos + le])\n",
    "#           if nm == m: \n",
    "#                found = True\n",
    "#      print(pos, m)\n",
    "\n",
    "\n",
    "# getMax(np.asarray(Y1), 2)"
   ]
  },
  {
   "cell_type": "code",
   "execution_count": null,
   "metadata": {},
   "outputs": [],
   "source": []
  },
  {
   "cell_type": "markdown",
   "metadata": {},
   "source": [
    "# Using Interpolation"
   ]
  },
  {
   "cell_type": "code",
   "execution_count": null,
   "metadata": {},
   "outputs": [],
   "source": [
    "def checker(ynew):\n",
    "    g = 1\n",
    "    Done = False\n",
    "    con = True\n",
    "    max = []\n",
    "    for i in range(1, len(ynew)):  # go through the graph\n",
    "        con = True                 # flag on to continue or not\n",
    "        print(i)\n",
    "        while g != 5 or con == True:   # tells you whether to continue or not\n",
    "            if i - g < 0 or i + g > len(ynew):\n",
    "                con = False\n",
    "                print(\"reached an end\")\n",
    "            if ynew[i - g] < ynew[i] and ynew[i + g] > ynew[i] and con == True: # check if the gth point behind the current point \n",
    "              \n",
    "                if  g < 5: \n",
    "                    g += 1 \n",
    "                if  g >=5: \n",
    "                    max.append(i)\n",
    "            else: \n",
    "                con = False\n",
    "    return max\n",
    "\n",
    "# m = checker(Y2)\n",
    "# This funciton checks to see if we have reached the end of an array"
   ]
  },
  {
   "cell_type": "code",
   "execution_count": null,
   "metadata": {},
   "outputs": [],
   "source": [
    "# plt.scatter(X, Y)\n",
    "# plt.scatter(X[res1], Y[res1], color = \"red\")\n",
    "# plt.scatter(X[res2], Y[res2], color = \"red\")"
   ]
  },
  {
   "cell_type": "code",
   "execution_count": null,
   "metadata": {},
   "outputs": [],
   "source": []
  }
 ],
 "metadata": {
  "kernelspec": {
   "display_name": "Python 3.9.12 ('base')",
   "language": "python",
   "name": "python3"
  },
  "language_info": {
   "codemirror_mode": {
    "name": "ipython",
    "version": 3
   },
   "file_extension": ".py",
   "mimetype": "text/x-python",
   "name": "python",
   "nbconvert_exporter": "python",
   "pygments_lexer": "ipython3",
   "version": "3.9.12"
  },
  "orig_nbformat": 4,
  "vscode": {
   "interpreter": {
    "hash": "d850ae00bc40dfc8433057f5becab0d0ff9bac1b3b7822254cc13391e260b37a"
   }
  }
 },
 "nbformat": 4,
 "nbformat_minor": 2
}
