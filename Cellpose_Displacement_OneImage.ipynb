{
 "cells": [
  {
   "cell_type": "markdown",
   "metadata": {},
   "source": [
    "# Displacement Between cluster groups\n",
    "\n",
    "Instead of finding the displacement of individual clusters, we now make it such that the distance between vertexes is detected instead. This takes in 3 parameters right now. \n",
    "\n",
    "Parameters we take in are: name of the organ \n",
    "the number of clusters we want\n"
   ]
  },
  {
   "cell_type": "code",
   "execution_count": null,
   "metadata": {},
   "outputs": [],
   "source": [
    "# Imports\n",
    "\n",
    "import numpy as np\n",
    "import matplotlib.pyplot as plt\n",
    "from cellpose import io\n",
    "from pathlib import Path\n",
    "import os\n",
    "import pandas as pd\n",
    "from Functions_Used import GetPointsList, GetVertexList, GetClusters, ShowClusterPlot\n",
    "from Functions_Used import specificOutline, findVertex, dist, getROIName # gets you specific Outlines\n",
    "from PIL import Image\n",
    "# List of Files\n",
    "# Importing all the files\n",
    "# the folder containing the .npy and png (or .tif files) are stored \n",
    "npyDir = \"Haltere\" # CHANGE THIS\n",
    "numOfClusters = 8 # This is the number of vertexes that are there\n",
    "roi_name, files, dir, maskList = getROIName(npyDir)\n"
   ]
  },
  {
   "cell_type": "code",
   "execution_count": null,
   "metadata": {},
   "outputs": [],
   "source": [
    "pointsList, M, O = GetPointsList(roi_name, dir)\n",
    "mainVertexList = GetVertexList(roi_name, pointsList, maskList)\n",
    "allx = GetClusters(numOfClusters, mainVertexList)\n",
    "ShowClusterPlot(allx, files, \"black\") # if the number is not clear, change the color to smth visible\n",
    "\n",
    "# from the image chose the vertex number that you want"
   ]
  },
  {
   "cell_type": "code",
   "execution_count": null,
   "metadata": {},
   "outputs": [],
   "source": [
    "vert1 = 3\n",
    "vert2 = 2\n",
    "clus1 = allx.loc[allx[\"clusterNum\"] == vert1] # select the cluster you want to look at\n",
    "clus2 = allx.loc[allx[\"clusterNum\"] == vert2] # select the cluster you want to look at \n",
    "f, ax = plt.subplots()\n",
    "ax.scatter(clus1[1], clus1[0])\n",
    "ax.scatter(clus2[1], clus2[0])\n",
    "plt.imshow(Image.open(files[13]))"
   ]
  },
  {
   "cell_type": "code",
   "execution_count": null,
   "metadata": {},
   "outputs": [],
   "source": [
    "displacement = []\n",
    "X1avg, X2avg, Y1avg, Y2avg = ([] for i in range(4)) # defining lists\n",
    "X1, X2, Y1, Y2 = ([] for i in range(4)) # defining lists\n",
    "fnum = []\n",
    "\n",
    "for k in range(max(max(clus1[\"frame\"]), max(clus2[\"frame\"]))):\n",
    "    a = clus1.loc[clus1[\"frame\"] == k] \n",
    "    b = clus2.loc[clus2[\"frame\"] == k]\n",
    "    if len(a) > 0 and len(b) > 0: \n",
    "        fnum.append(k)\n",
    "        X1.append(a)\n",
    "        X2.append(b)\n",
    "        X1avg.append(a.mean()[0]) # many points for each frame. We take the average of all the detected points for a frame to get a centroid\n",
    "        Y1avg.append(a.mean()[1]) # which is the assumed position of the vertex. \n",
    "        X2avg.append(b.mean()[0])\n",
    "        Y2avg.append(b.mean()[1])\n",
    "        \n",
    "X1avg = np.array(X1avg)\n",
    "X2avg = np.array(X2avg)\n",
    "Y1avg = np.array(Y1avg)\n",
    "Y2avg = np.array(Y2avg)\n",
    "\n",
    "displacement = np.sqrt((Y2avg - Y1avg)**2 + (X2avg - X1avg)**2) # Getting the displacement"
   ]
  },
  {
   "cell_type": "code",
   "execution_count": null,
   "metadata": {},
   "outputs": [],
   "source": [
    "a = pd.concat(X1)\n",
    "print(\"Taking average of the values for given clusters\")\n",
    "k = pd.DataFrame({\"x1\": X1avg,  \"y1\": Y1avg, \"x2\": X2avg, \"y2\": Y2avg, \"displacement\": displacement})\n",
    "k.to_csv(\"Displacement.csv\")\n",
    "# Generates a big table with the coordintes, frame number, and cluster number \n",
    "# Exports that table as a csv \n",
    "cluslist = []\n",
    "for i in range(numOfClusters): \n",
    "    cluslist.append(allx.loc[allx[\"clusterNum\"] == i])\n",
    "\n",
    "biglist = pd.concat(cluslist).drop(\"labels\", axis = \"columns\") # big table with all the points as \n",
    "biglist.to_csv(\"AllData.csv\")"
   ]
  },
  {
   "cell_type": "code",
   "execution_count": null,
   "metadata": {},
   "outputs": [],
   "source": [
    "import scipy.optimize\n",
    "\n",
    "stepsize = (0.823 - 0.549)/2\n",
    "tempX = np.arange(0.549, stepsize * (len(displacement) + 1), stepsize).tolist()\n",
    "bigX = [ 0.549/3 * i for i in range(3)]\n",
    "bigX = bigX + tempX\n",
    "len(bigX)\n",
    "\n",
    "\n",
    "def expon(t, a, b, c): \n",
    "    return a*t**b + c\n",
    "\n",
    "displacement = displacement - displacement[0]\n",
    "\n",
    "A = scipy.optimize.curve_fit(expon,  bigX,  displacement)\n",
    "a, b, c = A[0]\n",
    "nY = []\n",
    "for i in bigX:\n",
    "    nY.append(expon(i, a, b, c))"
   ]
  },
  {
   "cell_type": "code",
   "execution_count": null,
   "metadata": {},
   "outputs": [],
   "source": [
    "plt.scatter(bigX, displacement)\n",
    "plt.plot(bigX, nY)\n",
    "plt.xlabel(\"Time (s)\")\n",
    "plt.ylabel(\"Displacement\" + r' ($\\mu$m)')"
   ]
  },
  {
   "cell_type": "code",
   "execution_count": null,
   "metadata": {},
   "outputs": [],
   "source": [
    "displacement/np.mean(displacement)"
   ]
  }
 ],
 "metadata": {
  "kernelspec": {
   "display_name": "Python 3.9.12 ('base')",
   "language": "python",
   "name": "python3"
  },
  "language_info": {
   "codemirror_mode": {
    "name": "ipython",
    "version": 3
   },
   "file_extension": ".py",
   "mimetype": "text/x-python",
   "name": "python",
   "nbconvert_exporter": "python",
   "pygments_lexer": "ipython3",
   "version": "3.9.12"
  },
  "orig_nbformat": 4,
  "vscode": {
   "interpreter": {
    "hash": "d850ae00bc40dfc8433057f5becab0d0ff9bac1b3b7822254cc13391e260b37a"
   }
  }
 },
 "nbformat": 4,
 "nbformat_minor": 2
}
