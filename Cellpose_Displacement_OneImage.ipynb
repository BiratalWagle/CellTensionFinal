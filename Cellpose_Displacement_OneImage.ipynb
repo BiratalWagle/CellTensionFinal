{
 "cells": [
  {
   "cell_type": "markdown",
   "metadata": {},
   "source": [
    "# New Try\n",
    "The other methods of displacement finding weren't so nice. So this time let's try by first finding the ROI we need as well as all the ROIs that surround it\n",
    "\n",
    "\n",
    "# The Problem with this approach. \n",
    "Now, we are able to find the vertexes of th required cell segmentation very easily. This is because the ROI of every cell <i> includes </i> the cell walls. However, this is not exactly correct I feel. This also leads to alot more errors occuring.\n",
    "\n",
    "OK. Lets think about this another way. Hmmm.... maybe, just maybe, if I just use different algorithms to alter the image before the machine learning process, then maybe this could work. \n",
    "\n"
   ]
  },
  {
   "cell_type": "code",
   "execution_count": 11,
   "metadata": {},
   "outputs": [],
   "source": [
    "# Imports\n",
    "\n",
    "import numpy as np\n",
    "import matplotlib.pyplot as plt\n",
    "from cellpose import models, io\n",
    "from cellpose.io import imread\n",
    "from pathlib import Path\n",
    "import os\n",
    "from Modules import specificOutline, getFileDir, getOutlines, smoother, splitImg, plotSide # Custom module for readability\n",
    "import Modules_Displacement # custom module for readability\n",
    "import Modules\n",
    "from PIL import Image\n",
    "\n",
    "# List of Files\n",
    "# Importing all the files\n",
    "\n",
    "# the folder containing the .npy and png (or .tif files) are stored \n",
    "npyDir = \"Haltere\" # CHANGE THIS\n",
    "cellTypeName = npyDir\n",
    "cellTypePlot = cellTypeName + \"Plots\"\n",
    "numOfClusters = 8 # 8 for haltere, 15 for wing for the two files I set\n",
    "\n",
    "# Makes the directy to point to the seg files\n",
    "basedir = os.path.join(Path.cwd(), npyDir)\n",
    "files = io.get_image_files(basedir, \"\")\n",
    "dir = []\n",
    "for f in files: \n",
    "    dir.append((os.path.join(basedir, f) + \"_seg.npy\").replace(\".tif\", \"\"))\n",
    "dir = dir"
   ]
  },
  {
   "cell_type": "code",
   "execution_count": 12,
   "metadata": {},
   "outputs": [],
   "source": [
    "roi_name = [] # a list containing the name of the roi we need\n",
    "\n",
    "for i in range(len(dir)):  \n",
    "    dat = np.load(dir[i], allow_pickle=True).item()\n",
    "    masks = dat['masks'] # Using the masks gives us a larger target to select from than outlines\n",
    "    filenam = dat['filename']\n",
    "    width, height = masks.shape\n",
    "    neededROI = masks[width//2][height//2] # the general area of where our ROI will always be\n",
    "    # the below code saves the outline in an image file\n",
    "    if neededROI != 0: \n",
    "        roi_name.append([i, neededROI])"
   ]
  },
  {
   "cell_type": "markdown",
   "metadata": {},
   "source": [
    "# Method\n",
    "The thought process for this method is that the cell we want will be boreder by other cells. However, the vertexes of those cells will be bordered by 3 cells. The cell we want, and two other cells. \n",
    "\n",
    "The \"outlines\" part of the .npy files contains the outlines for a particular cell. By iterating through this 2D array, we can obtain the coordinates for the border of the cell we are interested in. Now for each of these coordinates, we can create a 3 x 3 sized 2D matrix subarray where the coordinate we input is the center. This will give us the coordinates for the vertexes\n"
   ]
  },
  {
   "cell_type": "code",
   "execution_count": 13,
   "metadata": {},
   "outputs": [],
   "source": [
    "# function to find the vertexes. \n",
    "# works by looking at the items surround i, j \n",
    "# filters out so only the unique items are found\n",
    "# if it is bordered by more than 3 unique items, then it is a vertex point\n",
    "# Check \n",
    "def findVertex(masks, j, i, k = 2):  \n",
    "    surr =[masks.item((j+k, i-k)),\n",
    "    masks.item((j+k, i)),\n",
    "    masks.item((j+k, i+k)),\n",
    "    masks.item((j, i-k)),\n",
    "    masks.item((j, i)),\n",
    "    masks.item((j, i+k)),\n",
    "    masks.item((j-k, i-k)),\n",
    "    masks.item((j-k, i)),\n",
    "    masks.item((j-k, i+k))]\n",
    "    # the set() function returns the unique values of the array. If the size of the list is more than\n",
    "    # 2, then we can return j, i. As this means that it is bordered by at least 3 cells\n",
    "    if len(list(set(surr)))>2: \n",
    "        return [j, i]\n",
    "\n",
    "def dist(f, g): # displacement \n",
    "    return np.sqrt((f[0] - g[0])**2 + (f[1] - g[1])**2)\n",
    "\n",
    "def dist2(ListOfSpecificVertex, i): \n",
    "    return np.sqrt[dist(ListOfSpecificVertex[0], ListOfSpecificVertex[i])] # Gets you the T0 - T(n)    "
   ]
  },
  {
   "cell_type": "markdown",
   "metadata": {},
   "source": [
    "What we can do now, is repeat the above function for two different points, and see what happens for the one above and below "
   ]
  },
  {
   "cell_type": "code",
   "execution_count": 14,
   "metadata": {},
   "outputs": [],
   "source": [
    "M = [] # list containing all the masks\n",
    "O = [] # list containing all the outlines\n",
    "\n",
    "for k in range(len(roi_name)): \n",
    "    # Get the file number, and the roi of the cell we are interested in\n",
    "    num, roi = roi_name[k]\n",
    "    dat = np.load(dir[num], allow_pickle=True).item()\n",
    "    masks = dat['masks']\n",
    "    outlines = dat['outlines']\n",
    "\n",
    "    # Get the masks and the outlines of the cell we are interested in\n",
    "    # M.append(specificOutline(masks, roi)) # list containing all the masks\n",
    "    M.append(masks)\n",
    "    O.append(specificOutline(outlines, roi)) # list containing all the outlines\n",
    "    \n",
    "pointsList = []\n",
    "\n",
    "for k in range(len(M)): \n",
    "    points = []\n",
    "    o = O[k]\n",
    "    height, width = o.shape\n",
    "    # iterate through the matrix and get the coordinates that make up the outline\n",
    "    # of the cell we are interested in\n",
    "    for i in range(height): \n",
    "        for j in range(width): \n",
    "            if o[i][j] != 0: \n",
    "                points.append([j, i])\n",
    "    # points is now a list which contains the coordinates for each point that matters for our outline\n",
    "    # store the vertexes for file number k in the array\n",
    "    pointsList.append(points)\n",
    "\n",
    "# plt.imshow(O[5])\n",
    "# plt.imshow(M[5])"
   ]
  },
  {
   "cell_type": "code",
   "execution_count": 16,
   "metadata": {},
   "outputs": [],
   "source": [
    "mainVertexList = []\n",
    "for q in range(len(roi_name)): \n",
    "    points = pointsList[q] # specific set of points\n",
    "\n",
    "    X = np.array(pointsList[q])[:, 0]\n",
    "    Y = np.array(pointsList[q])[:, 1]\n",
    "\n",
    "    vertexes = []\n",
    "    for k in range(len(points)): \n",
    "        i, j = points[k]\n",
    "        vert = findVertex(masks, j, i) # This finds if a particular point is a vertex or not\n",
    "        if vert: \n",
    "            vertexes.append(vert)\n",
    "    # Group similar vertexes\n",
    "    masterList = []\n",
    "    count = 0\n",
    "    tempVertex = []\n",
    "    mainVertexList.append(vertexes)\n",
    "\n",
    "    for i in range(len(vertexes)): \n",
    "        masterListTemp = []\n",
    "        if i not in masterList: \n",
    "            masterListTemp.append(i)\n",
    "            commonVertexes = []\n",
    "            # distval = 1: \n",
    "            # while distval < 50 or len(tempVertex) == 11: \n",
    "            for j in range(len(vertexes)): \n",
    "                if i != j and j not in masterList: \n",
    "                    if dist(vertexes[i], vertexes[j]) < 5: \n",
    "                        tempVertex.append(j)\n",
    "                        masterList.append(j)\n",
    "        count += 1"
   ]
  },
  {
   "cell_type": "code",
   "execution_count": 18,
   "metadata": {},
   "outputs": [],
   "source": [
    "import pandas as pd\n",
    "import matplotlib.pyplot as plt \n",
    "import numpy\n",
    "from sklearn.cluster import KMeans\n",
    "import pandas as pd\n",
    "\n",
    "count = 0 \n",
    "for i in mainVertexList:  \n",
    "    count += 1\n",
    "    if len(i) < 2: \n",
    "        mainVertexList.pop(count)\n",
    "\n",
    "# change num of clusters manually \n",
    "\n",
    "kmeans = KMeans(n_clusters= numOfClusters, random_state=42) \n",
    "a = []\n",
    "x = []\n",
    "for i in range(len(mainVertexList)): \n",
    "    X = mainVertexList[i]\n",
    "    if len(X) > 1: \n",
    "        clusts = kmeans.fit_predict(X)\n",
    "        df = pd.DataFrame(X)\n",
    "        df[\"labels\"] = clusts\n",
    "        df[\"frame\"] = i \n",
    "        x.append(df)"
   ]
  },
  {
   "cell_type": "code",
   "execution_count": 90,
   "metadata": {},
   "outputs": [
    {
     "data": {
      "text/plain": [
       "<matplotlib.image.AxesImage at 0x27840ef1dc0>"
      ]
     },
     "execution_count": 90,
     "metadata": {},
     "output_type": "execute_result"
    },
    {
     "data": {
      "image/png": "[encoded data removed]",
      "text/plain": [
       "<Figure size 432x288 with 1 Axes>"
      ]
     },
     "metadata": {
      "needs_background": "light"
     },
     "output_type": "display_data"
    }
   ],
   "source": [
    "# # I need to relabel the clusters so that it looks nice enough hahahaha\n",
    "allx = pd.concat(x)\n",
    "# plt.scatter(allx[1], allx[0])\n",
    "C = list(zip(allx[1], allx[0]))\n",
    "clusts = kmeans.fit_predict(C)\n",
    "\n",
    "allx[\"clusterNum\"] = clusts\n",
    "\n",
    "clus1 = allx.loc[allx[\"clusterNum\"] == 4] # select the cluster you want to look at\n",
    "clus2 = allx.loc[allx[\"clusterNum\"] == 5] # select the cluster you want to look at \n",
    "f, ax = plt.subplots()\n",
    "ax.scatter(clus1[1], clus1[0])\n",
    "ax.scatter(clus2[1], clus2[0])\n",
    "df = pd.DataFrame(X)\n",
    "plt.imshow(Image.open(files[0]))"
   ]
  },
  {
   "cell_type": "code",
   "execution_count": 91,
   "metadata": {},
   "outputs": [],
   "source": [
    "displacement = []\n",
    "X1, X2, Y1, Y2 = ([] for i in range(4))\n",
    "fnum = []\n",
    "\n",
    "for k in range(max(max(clus1[\"frame\"]), max(clus2[\"frame\"]))):\n",
    "\n",
    "    a = clus1.loc[clus1[\"frame\"] == k]\n",
    "    b = clus2.loc[clus2[\"frame\"] == k]\n",
    "    if len(a) > 0 and len(b) > 0: \n",
    "        fnum.append(k)\n",
    "        X1.append(a.mean()[0])\n",
    "        Y1.append(a.mean()[1])\n",
    "        X2.append(b.mean()[0])\n",
    "        Y2.append(b.mean()[1])\n",
    "\n",
    "        \n",
    "X1 = np.array(X1)\n",
    "X2 = np.array(X2)\n",
    "Y1 = np.array(Y1)\n",
    "Y2 = np.array(Y2)\n",
    "\n",
    "displacement = np.sqrt((Y2 - Y1)**2 + (X2- X1)**2)\n"
   ]
  },
  {
   "cell_type": "code",
   "execution_count": 99,
   "metadata": {},
   "outputs": [
    {
     "name": "stderr",
     "output_type": "stream",
     "text": [
      "C:\\Users\\birat\\AppData\\Local\\Temp\\ipykernel_10364\\1889247433.py:11: RuntimeWarning: divide by zero encountered in power\n",
      "  return a*t**b + c\n"
     ]
    }
   ],
   "source": [
    "import scipy.optimize\n",
    "\n",
    "stepsize = (0.823 - 0.549)/2\n",
    "tempX = np.arange(0.549, stepsize * (len(displacement) + 1), stepsize).tolist()\n",
    "bigX = [ 0.549/3 * i for i in range(3)]\n",
    "bigX = bigX + tempX\n",
    "len(bigX)\n",
    "\n",
    "\n",
    "def expon(t, a, b, c): \n",
    "    return a*t**b + c\n",
    "    \n",
    "A = scipy.optimize.curve_fit(expon,  bigX,  displacement)\n",
    "a, b, c = A[0]\n",
    "nY = []\n",
    "for i in bigX:\n",
    "    nY.append(expon(i, a, b, c))"
   ]
  },
  {
   "cell_type": "code",
   "execution_count": 100,
   "metadata": {},
   "outputs": [
    {
     "data": {
      "text/plain": [
       "[<matplotlib.lines.Line2D at 0x27844c93b50>]"
      ]
     },
     "execution_count": 100,
     "metadata": {},
     "output_type": "execute_result"
    },
    {
     "data": {
      "image/png": "[encoded data removed]",
      "text/plain": [
       "<Figure size 432x288 with 1 Axes>"
      ]
     },
     "metadata": {
      "needs_background": "light"
     },
     "output_type": "display_data"
    }
   ],
   "source": [
    "plt.scatter(bigX, displacement)\n",
    "plt.plot(bigX, nY)"
   ]
  },
  {
   "cell_type": "code",
   "execution_count": null,
   "metadata": {},
   "outputs": [],
   "source": [
    "# coeffs = numpy.polyfit(bigX, bigY, deg=5)\n",
    "# poly = numpy.poly1d(coeffs)\n",
    "\n",
    "# plt.plot(bigX, poly(bigX))\n",
    "# plt.scatter(bigX, bigY)\n",
    "# plt.title(\"Cluster \" + str(k))\n",
    "# plt.xlabel(\"Time (s)\")\n",
    "# plt.ylabel(\"displacement \" + r'($\\mu$m)')"
   ]
  },
  {
   "cell_type": "code",
   "execution_count": null,
   "metadata": {},
   "outputs": [],
   "source": [
    "# def filterVertex(points, masks, distVal = 5): \n",
    "#     vertexes = []\n",
    "#     for k in range(len(points)): \n",
    "#         i, j = points[k]\n",
    "#         vert = findVertex(masks, j, i)\n",
    "#         if vert: \n",
    "#             vertexes.append(vert)\n",
    "#     # now in the vertexes file, there are some points which are overlapping with others\n",
    "#     # in order to fix this, we can remove the points in the vertex file which are close to\n",
    "#     # each other. \n",
    "    \n",
    "#     vertexes = np.array(vertexes)\n",
    "\n",
    "#     for i in range(len(vertexes)): \n",
    "#         if len(vertexes[i]) > 1: \n",
    "#             a, b = vertexes[i]\n",
    "#             for j in range(len(vertexes)): \n",
    "#                 if i != j: \n",
    "#                     c, d = vertexes[j]\n",
    "#                     dist = np.sqrt((a - c)**2 + (b - d)**2) # displacement formula\n",
    "#                     if dist < distVal: # distval determines the max distance between vertexes\n",
    "#                         vertexes[j] = -1 # setting those values as -1\n",
    "\n",
    "#     # now we filter out the entries with -1, giving us the values we require\n",
    "#     vert2 = []\n",
    "#     for i in range(len(vertexes)): \n",
    "#         if vertexes[i][0] > 0: \n",
    "#             vert2.append(vertexes[i])\n",
    "#     return vert2"
   ]
  },
  {
   "cell_type": "code",
   "execution_count": null,
   "metadata": {},
   "outputs": [],
   "source": [
    "# pointsList = []\n",
    "\n",
    "# for k in range(len(M)): \n",
    "#     points = []\n",
    "#     o = O[k]\n",
    "#     height, width = o.shape\n",
    "#     # iterate through the matrix and get the coordinates that make up the outline\n",
    "#     # of the cell we are interested in\n",
    "#     for i in range(height): \n",
    "#         for j in range(width): \n",
    "#             if o[i][j] != 0: \n",
    "#                 points.append([j, i])\n",
    "#     # points is now a list which contains the coordinates for each point that matters for our outline\n",
    "#     # store the vertexes for file number k in the array\n",
    "#     pointsList.append(points)"
   ]
  },
  {
   "cell_type": "code",
   "execution_count": null,
   "metadata": {},
   "outputs": [],
   "source": [
    "# # code ensures each image has the same number of vertexes\n",
    "# # now we get the vertexes for each file, and we get the lengths for each file as well\n",
    "\n",
    "# vertexList = []\n",
    "# lengths = []\n",
    "# for k in range(len(pointsList)): \n",
    "#     possibleVertex = filterVertex(pointsList[k], M[k])\n",
    "#     if len(possibleVertex) == 11: \n",
    "#         vertexList.append(possibleVertex)\n",
    "#         lengths.append(len(possibleVertex))\n",
    "#     else: \n",
    "#         for i in range(50): \n",
    "#             possibleVertex = filterVertex(pointsList[k], M[k], distVal= i* 0.2)\n",
    "#             if len(possibleVertex) == 11: \n",
    "#                 vertexList.append(possibleVertex)\n",
    "#                 lengths.append(len(possibleVertex))\n",
    "#                 break \n",
    "# print(len(lengths))"
   ]
  },
  {
   "cell_type": "code",
   "execution_count": null,
   "metadata": {},
   "outputs": [],
   "source": [
    "# # Attempt for getting displacement\n",
    "\n",
    "# def dist(f, g): \n",
    "#     return np.sqrt((f[0] - g[0])**2 + (f[1] - g[1])**2)\n",
    "# displacementList = [[] ]* (len(vertexList) - 1)\n",
    "\n",
    "# for k in range(len(vertexList) - 1): \n",
    "#     displacement =[]\n",
    "#     v1 = vertexList[k]\n",
    "#     v2 = vertexList[k + 1]\n",
    "#     for j in range(len(v1)): \n",
    "#         f = v1[j]\n",
    "#         potentialDist = 100\n",
    "#         for h in range(len(v2)): \n",
    "#                 g = v2[h]\n",
    "#                 dtest = dist(f, g) # iterate through and find which ones have the small displacement\n",
    "#                 if dtest < potentialDist: \n",
    "#                     potentialDist = dtest\n",
    "#         displacement.append(potentialDist)\n",
    "#     displacementList[k] = displacement"
   ]
  },
  {
   "cell_type": "code",
   "execution_count": null,
   "metadata": {},
   "outputs": [],
   "source": [
    "# A = []\n",
    "# mainlist = []\n",
    "# NewPointsList = []\n",
    "\n",
    "# i = 0\n",
    "# # for i in range(len([1])): \n",
    "#     # if i not in mainlist:\n",
    "#     #     mainlist.append(i)\n",
    "#     #     mainlist.append(i + 1)\n",
    "\n",
    "#     # a list of points for a specific outline\n",
    "\n",
    "# for i in range(len(VlistF)):\n",
    "#     A = VlistF[i] # Getting the vertexes for a specific file\n",
    "#     NewPointsList = []\n",
    "#     for k in range(len(A)):\n",
    "#         a = A[k]\n",
    "#         a = np.array(a)\n",
    "#         G = [np.average(a[:, 0]), np.average(a[:, 1])]\n",
    "#         NewPointsList.append(G)\n",
    "#     mainlist.append(NewPointsList)\n"
   ]
  },
  {
   "cell_type": "code",
   "execution_count": null,
   "metadata": {},
   "outputs": [],
   "source": [
    "# k = 65\n",
    "\n",
    "# X1 = np.array(mainlist[k])\n",
    "\n",
    "# x = X1[:, 0]\n",
    "# y = X1[:, 1]\n",
    "\n",
    "# plt.scatter(y, x)\n",
    "# plt.imshow(O[k])"
   ]
  },
  {
   "cell_type": "code",
   "execution_count": null,
   "metadata": {},
   "outputs": [],
   "source": [
    "# mainlist[0]\n",
    "# print(mainlist[0])\n",
    "# print(mainlist[1])\n",
    "\n",
    "# vertexList = mainlist"
   ]
  },
  {
   "cell_type": "code",
   "execution_count": null,
   "metadata": {},
   "outputs": [],
   "source": [
    "# code ensures each image has the same number of vertexes\n",
    "# now we get the vertexes for each file, and we get the lengths for each file as well\n",
    "# lengths = []\n",
    "\n",
    "# for k in range(len(pointsList)): \n",
    "#     possibleVertex = filterVertex(pointsList[k], M[k])\n",
    "#     if len(possibleVertex) == 11: \n",
    "#         vertexList.append(possibleVertex)\n",
    "#         lengths.append(len(possibleVertex))\n",
    "#     else: \n",
    "#         for i in range(10): \n",
    "#             possibleVertex = filterVertex(pointsList[k], M[k], distVal=i)\n",
    "#             if len(possibleVertex) == 11: \n",
    "#                 vertexList.append(possibleVertex)\n",
    "#                 lengths.append(len(possibleVertex))\n",
    "#                 break"
   ]
  },
  {
   "cell_type": "code",
   "execution_count": null,
   "metadata": {},
   "outputs": [],
   "source": [
    "# # Attempt for getting displacement\n",
    "\n",
    "# def dist(f, g): \n",
    "#     return np.sqrt((f[0] - g[0])**2 + (f[1] - g[1])**2)\n",
    "# displacementList = [[] ]* (len(vertexList) - 1)\n",
    "\n",
    "# for k in range(len(vertexList) - 1): \n",
    "#     displacement =[]\n",
    "#     v1 = vertexList[k]\n",
    "#     v2 = vertexList[k + 1]\n",
    "#     for j in range(len(v1)): \n",
    "#         f = v1[j]\n",
    "#         potentialDist = 100\n",
    "#         for h in range(len(v2)): \n",
    "#                 g = v2[h]\n",
    "#                 dtest = dist2(f, g) # iterate through and find which ones have the small displacement\n",
    "#                 if dtest < potentialDist: \n",
    "#                     potentialDist = dtest\n",
    "#         displacement.append(potentialDist)\n",
    "#     displacementList[k] = displacement"
   ]
  },
  {
   "cell_type": "code",
   "execution_count": null,
   "metadata": {},
   "outputs": [],
   "source": [
    "# D = np.asarray(displacementList, dtype = \"object\")"
   ]
  },
  {
   "cell_type": "markdown",
   "metadata": {},
   "source": [
    "# Problems with this\n",
    "this method provides much better vertex detetection than the others for sure, but as the lists are created using the append method, there is no way to tell in which direction they are appended. The position of the vertexes may change after ablation, hence the order in which they are appended may change as well. To counteract this, we can take every entry in \"vertexList\" and compare it with the next entry in vertexList and see which element will have the least displacement. We can then just interchange those points"
   ]
  },
  {
   "cell_type": "code",
   "execution_count": null,
   "metadata": {},
   "outputs": [],
   "source": [
    "# # for i in range(len(vertexList) - 1):\n",
    "\n",
    "# i = 0 \n",
    "\n",
    "# A= np.asarray(vertexList[i])\n",
    "# B = np.asarray(vertexList[i + 1])\n",
    "# C = B - A\n",
    "# print(C[i])\n",
    "# D = []\n",
    "# for i in range(len(C)): \n",
    "#     if C[i][0] + C[i][1] != 0: # now we have the points that we need\n",
    "#         D.append([i, C[i]])\n",
    "# small = 0\n"
   ]
  },
  {
   "cell_type": "code",
   "execution_count": null,
   "metadata": {},
   "outputs": [],
   "source": [
    "# c = []\n",
    "# for value in range(80):\n",
    "#     x = np.asarray(vertexList[value])[:, 0]\n",
    "#     y = np.asarray(vertexList[value])[:, 1]\n",
    "#     # plt.scatter(y[0], x[0], marker = \"x\", color = \"red\")\n",
    "#     c.append(list(zip(x, y)))\n",
    "# c[0]"
   ]
  },
  {
   "cell_type": "code",
   "execution_count": null,
   "metadata": {},
   "outputs": [],
   "source": [
    "# vert = []\n",
    "# for i in range(len(displacementList)): \n",
    "#     vert.append(displacementList[i][1])\n"
   ]
  },
  {
   "cell_type": "code",
   "execution_count": null,
   "metadata": {},
   "outputs": [],
   "source": [
    "# X = np.arange(0, len(displacementList), 1 )\n",
    "# plt.scatter(X, vert)\n",
    "# Y = []\n",
    "\n",
    "# for i in vert: \n",
    "#     if i < 5: \n",
    "#         Y.append(i)\n",
    "\n",
    "# X = np.arange(0, len(Y), 1)\n",
    "\n",
    "# cummulation =  [Y[0]]\n",
    "# for i in range(1,len(Y)): \n",
    "#     cummulation.append(Y[i] + cummulation[i - 1]) \n",
    "\n",
    "# plt.scatter(X, cummulation)"
   ]
  },
  {
   "cell_type": "code",
   "execution_count": null,
   "metadata": {},
   "outputs": [],
   "source": [
    "\n",
    "# v = 5\n",
    "\n",
    "# for value in range(88):\n",
    "#     x = np.asarray(vertexList[value])[:, 0]\n",
    "#     y = np.asarray(vertexList[value])[:, 1]\n",
    "\n",
    "#     plt.scatter(y, x, marker = \"x\", color = \"red\")\n",
    "\n",
    "# plt.imshow(O[10])\n",
    "\n"
   ]
  }
 ],
 "metadata": {
  "kernelspec": {
   "display_name": "Python 3.9.12 ('base')",
   "language": "python",
   "name": "python3"
  },
  "language_info": {
   "codemirror_mode": {
    "name": "ipython",
    "version": 3
   },
   "file_extension": ".py",
   "mimetype": "text/x-python",
   "name": "python",
   "nbconvert_exporter": "python",
   "pygments_lexer": "ipython3",
   "version": "3.9.12"
  },
  "orig_nbformat": 4,
  "vscode": {
   "interpreter": {
    "hash": "d850ae00bc40dfc8433057f5becab0d0ff9bac1b3b7822254cc13391e260b37a"
   }
  }
 },
 "nbformat": 4,
 "nbformat_minor": 2
}
